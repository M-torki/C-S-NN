{
  "nbformat": 4,
  "nbformat_minor": 0,
  "metadata": {
    "colab": {
      "name": "CMB-Stage4(ii)-like.ipynb",
      "provenance": [],
      "collapsed_sections": [],
      "include_colab_link": true
    },
    "kernelspec": {
      "name": "python3",
      "display_name": "Python 3"
    },
    "accelerator": "GPU"
  },
  "cells": [
    {
      "cell_type": "markdown",
      "metadata": {
        "id": "view-in-github",
        "colab_type": "text"
      },
      "source": [
        "<a href=\"https://colab.research.google.com/github/M-torki/C-S-NN/blob/master/CMB_Stage4(ii)_like.ipynb\" target=\"_parent\"><img src=\"https://colab.research.google.com/assets/colab-badge.svg\" alt=\"Open In Colab\"/></a>"
      ]
    },
    {
      "cell_type": "code",
      "metadata": {
        "id": "6JJP4gTEZE38",
        "colab": {
          "base_uri": "https://localhost:8080/"
        },
        "outputId": "ee93ced3-9608-43ac-ff73-95565cdf93ce"
      },
      "source": [
        "%tensorflow_version 1.x"
      ],
      "execution_count": 1,
      "outputs": [
        {
          "output_type": "stream",
          "text": [
            "TensorFlow 1.x selected.\n"
          ],
          "name": "stdout"
        }
      ]
    },
    {
      "cell_type": "code",
      "metadata": {
        "id": "VzrKNS0fM08_",
        "colab": {
          "base_uri": "https://localhost:8080/"
        },
        "outputId": "ec4bc51a-c126-4e7f-f57b-28a189058d65"
      },
      "source": [
        "from google.colab import drive\n",
        "drive.mount('/gdrive')"
      ],
      "execution_count": 2,
      "outputs": [
        {
          "output_type": "stream",
          "text": [
            "Mounted at /gdrive\n"
          ],
          "name": "stdout"
        }
      ]
    },
    {
      "cell_type": "code",
      "metadata": {
        "id": "58fa_AauOQ7N",
        "colab": {
          "base_uri": "https://localhost:8080/"
        },
        "outputId": "f28df457-b166-4650-9887-eaca1de179ad"
      },
      "source": [
        "cd /gdrive/My\\ Drive/"
      ],
      "execution_count": 3,
      "outputs": [
        {
          "output_type": "stream",
          "text": [
            "/gdrive/My Drive\n"
          ],
          "name": "stdout"
        }
      ]
    },
    {
      "cell_type": "code",
      "metadata": {
        "id": "NRghSAwNOc6q",
        "colab": {
          "base_uri": "https://localhost:8080/"
        },
        "outputId": "c1582ac0-3174-4d81-ff2a-b08a81bb6cdd"
      },
      "source": [
        "!pip install git+https://github.com/vafaei-ar/ccgpack.git"
      ],
      "execution_count": 4,
      "outputs": [
        {
          "output_type": "stream",
          "text": [
            "Collecting git+https://github.com/vafaei-ar/ccgpack.git\n",
            "  Cloning https://github.com/vafaei-ar/ccgpack.git to /tmp/pip-req-build-bwz4xhfz\n",
            "  Running command git clone -q https://github.com/vafaei-ar/ccgpack.git /tmp/pip-req-build-bwz4xhfz\n",
            "Building wheels for collected packages: ccgpack\n",
            "  Building wheel for ccgpack (setup.py) ... \u001b[?25l\u001b[?25hdone\n",
            "  Created wheel for ccgpack: filename=ccgpack-0.1.0-cp37-cp37m-linux_x86_64.whl size=910064 sha256=f9eded50fef86610b10d00777a1ff471b202dfd941b8fdf6a9f40386e37443ac\n",
            "  Stored in directory: /tmp/pip-ephem-wheel-cache-c3mgiwos/wheels/a8/3c/86/3720d002b7c606972520b7468f7b9daf3da3acc3052facac45\n",
            "Successfully built ccgpack\n",
            "Installing collected packages: ccgpack\n",
            "Successfully installed ccgpack-0.1.0\n"
          ],
          "name": "stdout"
        }
      ]
    },
    {
      "cell_type": "code",
      "metadata": {
        "id": "LPuK_Jt4OgK1",
        "colab": {
          "base_uri": "https://localhost:8080/"
        },
        "outputId": "e104ceb7-8ada-4689-aa43-4bd67a440436"
      },
      "source": [
        "!pip install git+https://github.com/vafaei-ar/Ngene.git"
      ],
      "execution_count": 5,
      "outputs": [
        {
          "output_type": "stream",
          "text": [
            "Collecting git+https://github.com/vafaei-ar/Ngene.git\n",
            "  Cloning https://github.com/vafaei-ar/Ngene.git to /tmp/pip-req-build-upon1lpm\n",
            "  Running command git clone -q https://github.com/vafaei-ar/Ngene.git /tmp/pip-req-build-upon1lpm\n",
            "Building wheels for collected packages: ngene\n",
            "  Building wheel for ngene (setup.py) ... \u001b[?25l\u001b[?25hdone\n",
            "  Created wheel for ngene: filename=ngene-0.1.0-cp37-none-any.whl size=11659 sha256=ccade66140898faca4b3bc91be02c12e118602fbfd88c721d7a24d94295fe5dd\n",
            "  Stored in directory: /tmp/pip-ephem-wheel-cache-85n_588p/wheels/f7/d2/a8/1dae975d187b4a9790d83da45caaef0d018b41ffc0ab7fceb7\n",
            "Successfully built ngene\n",
            "Installing collected packages: ngene\n",
            "Successfully installed ngene-0.1.0\n"
          ],
          "name": "stdout"
        }
      ]
    },
    {
      "cell_type": "code",
      "metadata": {
        "id": "UvkgztZJOmwP",
        "colab": {
          "base_uri": "https://localhost:8080/"
        },
        "outputId": "0cc409e5-5689-4319-b334-c878287d2e1d"
      },
      "source": [
        "import os\n",
        "import ngene as ng\n",
        "import numpy as np\n",
        "import pylab as plt\n",
        "from glob import glob\n",
        "import tensorflow as tf\n",
        "from random import choice,shuffle\n",
        "from sklearn.metrics import accuracy_score\n",
        "import cv2 as cv"
      ],
      "execution_count": 6,
      "outputs": [
        {
          "output_type": "stream",
          "text": [
            "WARNING:tensorflow:From /tensorflow-1.15.2/python3.7/tensorflow_core/python/compat/v2_compat.py:68: disable_resource_variables (from tensorflow.python.ops.variable_scope) is deprecated and will be removed in a future version.\n",
            "Instructions for updating:\n",
            "non-resource variables are not supported in the long term\n"
          ],
          "name": "stdout"
        }
      ]
    },
    {
      "cell_type": "code",
      "metadata": {
        "id": "NE2-ExHOOia7"
      },
      "source": [
        "import sys\n",
        "sys.path.append('/gdrive/My\\ Drive/git_reps/ccgpack')\n",
        "sys.path.append('/gdrive/My\\ Drive/git_reps/Ngene')"
      ],
      "execution_count": 7,
      "outputs": []
    },
    {
      "cell_type": "code",
      "metadata": {
        "id": "BUXvNlu8OpKT"
      },
      "source": [
        "def conf_plotter(y_true, y_pred, classes,\n",
        "                      normalize=0,\n",
        "                      title=None,\n",
        "                      cmap=plt.cm.pink_r,\n",
        "                      mode = 'train',\n",
        "                      save = 0,\n",
        "                      name = 'conf.jpg'):\n",
        "\n",
        "    if not title:\n",
        "        if mode == 'train':\n",
        "            title = 'Normalized confusion matrix on train dataset'\n",
        "        if mode == 'test':\n",
        "            title = 'Normalized confusion matrix on test dataset'\n",
        "        if mode == 'prob':\n",
        "            title = 'Normalized confusion matrix on Non-Overlapping test dataset'\n",
        "            \n",
        "\n",
        "    from sklearn.metrics import confusion_matrix\n",
        "    \n",
        "    cm = confusion_matrix(y_true, y_pred)\n",
        "\n",
        "    if normalize:\n",
        "        cm = cm.astype('float') / cm.sum(axis=1)[:, np.newaxis]\n",
        "\n",
        "\n",
        "    fig, ax = plt.subplots(figsize=(9,9))\n",
        "    im = ax.imshow(cm, cmap=cmap)\n",
        "    ax.figure.colorbar(im, ax=ax ,fraction=0.046, pad=0.04)\n",
        "    ax.set(xticks=np.arange(cm.shape[0]),\n",
        "           yticks=np.arange(cm.shape[1]),\n",
        "           xticklabels=classes, yticklabels=classes,\n",
        "           title=title,\n",
        "           ylabel= 'True label',\n",
        "           xlabel='Predicted label')\n",
        "    \n",
        "    for item in ([ax.title, ax.xaxis.label, ax.yaxis.label] ):\n",
        "                    \n",
        "        item.set_fontsize(15)\n",
        "     \n",
        "    for item in (ax.get_xticklabels() + ax.get_yticklabels()):\n",
        "        \n",
        "        item.set_fontsize(12)\n",
        "\n",
        "                \n",
        "    plt.gca().invert_yaxis()\n",
        "    plt.setp(ax.get_xticklabels(), rotation=45, ha=\"right\",\n",
        "             rotation_mode=\"anchor\")\n",
        "\n",
        "    fmt = '.2f' if normalize else 'd'\n",
        "    thresh = cm.max() / 2.\n",
        "    for i in range(cm.shape[0]):\n",
        "        for j in range(cm.shape[1]):\n",
        "            ax.text(j, i, format(cm[i, j], fmt),\n",
        "                    ha=\"center\", va=\"center\",\n",
        "                    color=\"white\" if cm[i, j] > thresh else \"black\")\n",
        "    fig.tight_layout()\n",
        "    if save == 1:\n",
        "        plt.savefig(name)\n",
        "    return ax"
      ],
      "execution_count": 8,
      "outputs": []
    },
    {
      "cell_type": "code",
      "metadata": {
        "id": "XsRWas-nO5c0",
        "colab": {
          "base_uri": "https://localhost:8080/"
        },
        "outputId": "6d3fe3bd-f54e-4b49-8aa8-2fb01c981de2"
      },
      "source": [
        "g_files = sorted(glob('./data/Healpix_p/*.npy'))\n",
        "s_files = sorted(glob('./data/string_p/*.npy'))\n",
        "\n",
        "if len(g_files)*len(s_files)==0:\n",
        "    print('Somthing is wrong with initiation.')\n",
        "    #exit()\n",
        "\n",
        "print(len(g_files),len(s_files))"
      ],
      "execution_count": 9,
      "outputs": [
        {
          "output_type": "stream",
          "text": [
            "409 12\n"
          ],
          "name": "stdout"
        }
      ]
    },
    {
      "cell_type": "code",
      "metadata": {
        "id": "LKJepo5vhAC8"
      },
      "source": [
        "# for i in range(200,205):\n",
        "#     print(np.std(np.load('./data/Healpix_p/'+str(i)+'.npy')))"
      ],
      "execution_count": 10,
      "outputs": []
    },
    {
      "cell_type": "code",
      "metadata": {
        "id": "D1A8gpp4hKfa",
        "colab": {
          "base_uri": "https://localhost:8080/"
        },
        "outputId": "d7bc304d-ffc1-4d8a-e52d-1c5844ce9490"
      },
      "source": [
        "np.std(np.load('./data/string_p/0.npy'))"
      ],
      "execution_count": 11,
      "outputs": [
        {
          "output_type": "execute_result",
          "data": {
            "text/plain": [
              "15.552519"
            ]
          },
          "metadata": {
            "tags": []
          },
          "execution_count": 11
        }
      ]
    },
    {
      "cell_type": "code",
      "metadata": {
        "id": "ZmSCGUh6D9xr",
        "colab": {
          "base_uri": "https://localhost:8080/"
        },
        "outputId": "1a37f520-5c34-4d00-e82a-131bc19d8871"
      },
      "source": [
        "np.std(np.load('./data/Healpix_p/0.npy'))"
      ],
      "execution_count": 12,
      "outputs": [
        {
          "output_type": "execute_result",
          "data": {
            "text/plain": [
              "0.00010903541"
            ]
          },
          "metadata": {
            "tags": []
          },
          "execution_count": 12
        }
      ]
    },
    {
      "cell_type": "code",
      "metadata": {
        "id": "g4EVYjWeOuq8"
      },
      "source": [
        "def get_slice(data,nx,ny):\n",
        "    \"\"\"Slice matrix in x and y direction\"\"\"\n",
        "    lx,ly = data.shape  \n",
        "    if nx==0 or nx==lx:\n",
        "        slx = slice(0, lx)                \n",
        "    else:\n",
        "        idx = np.random.randint(0, lx - nx)            \n",
        "        slx = slice(idx, (idx+nx))       \n",
        "    if ny==0 or ny==ly:\n",
        "        sly = slice(0, ly)                \n",
        "    else:\n",
        "        idy = np.random.randint(0, ly - ny)            \n",
        "        sly = slice(idy, (idy+ny))\n",
        "    return slx, sly\n",
        "\n",
        "\n",
        "class OrganizedDataProvider(object):\n",
        "    def __init__(self,n_files,s_files,gmus,\n",
        "                 s2n, \n",
        "                 nx=0,ny=0,n_buffer=10,\n",
        "                 reload_rate=100,filt=None ,test=0 , noisy=1):\n",
        "\n",
        "        self.n_files = n_files\n",
        "        self.s_files = s_files\n",
        "        self.test = test\n",
        "        self.s2n = s2n\n",
        "        self.noisy = noisy\n",
        "\n",
        "        nmin = min(len(n_files),len(s_files))\n",
        "        if n_buffer>= nmin:\n",
        "            n_buffer = nmin\n",
        "            self.reload_rate = 0\n",
        "        else:\n",
        "            self.reload_rate = reload_rate\n",
        "\n",
        "        self.nx,self.ny = nx,ny\n",
        "        self.n_buffer = n_buffer\n",
        "        self.gmus = gmus\n",
        "        if filt is None:\n",
        "            def filt(x):\n",
        "                return x\n",
        "        self.filt = filt\n",
        "        self.counter = 0\n",
        "        self.reload()\n",
        "            \n",
        "    def reload(self):\n",
        "        print('Data provider is reloading...')\n",
        "        self.n_set = []\n",
        "        self.s_set = []\n",
        "    #        self.d_set = []\n",
        "        nind = np.random.randint(0,len(self.n_files))\n",
        "        \n",
        "        if self.test:\n",
        "            sind = (nind%12)\n",
        "        else:\n",
        "\n",
        "            sind = np.random.randint(1,3)\n",
        "            if sind==1:\n",
        "                sind = (nind%12)\n",
        "            elif sind==2:\n",
        "                sind = (nind%12)+12\n",
        "            \n",
        "#         print('sind' , sind , 'nind' , nind)\n",
        "\n",
        "\n",
        "\n",
        "    #        ninds = np.arange(len(self.n_files))\n",
        "    #        sinds = np.arange(len(self.s_files))\n",
        "    #        shuffle(ninds)\n",
        "    #        shuffle(sinds)\n",
        "        for i in range(self.n_buffer):\n",
        "            filen = self.n_files[nind]\n",
        "            files = self.s_files[sind]\n",
        "            self.n_set.append(np.load(filen))\n",
        "            signal = np.load(files)\n",
        "            self.s_set.append(signal)\n",
        "    #            if self.filt:\n",
        "    #                self.d_set.append(self.filt(signal))\n",
        "    #            else:\n",
        "    #                self.d_set.append(signal)\n",
        "    #            \n",
        "\n",
        "    def get_data(self): \n",
        "        self.counter += 1\n",
        "        if self.reload_rate:\n",
        "            if self.counter%self.reload_rate==0: \n",
        "                self.reload() \n",
        "    #        n = choice(self.n_set)\n",
        "        ind = choice(np.arange(self.n_buffer))\n",
        "        s = self.s_set[ind]\n",
        "        n = self.n_set[ind]\n",
        "#         print('ind' , ind)\n",
        "\n",
        "\n",
        "    #        d = self.d_set[sind]\n",
        "        return n,s#,d\n",
        "\n",
        "\n",
        "    def pre_process(self, n, s, gmu):\n",
        "        \n",
        "        sn = n + gmu*s\n",
        "        snslice = get_slice(sn,self.nx,self.ny)\n",
        "        sn = sn[snslice]\n",
        "            #    sslice = get_slice(s,self.nx,self.ny)\n",
        "            #    s = s[sslice]\n",
        "\n",
        "        if self.noisy == 1:\n",
        "            noise = np.random.normal(0, 0.000109704/self.s2n ,sn.shape)\n",
        "            sn = sn +noise\n",
        "\n",
        "        # sn = self.filt(sn)\n",
        "        #        d = d[sslice]\n",
        "        #        d = np.expand_dims(d,-1)\n",
        "        return sn #, (n*1e-6).std()#,d\n",
        "\n",
        "    def __call__(self, n, gmus=None): \n",
        "\n",
        "        if gmus is None:\n",
        "            gmus = self.gmus\n",
        "        n_class = len(gmus)\n",
        "        #        x,y = self.get_data()\n",
        "        X = []\n",
        "        Y = []\n",
        "        for i in range(n):                \n",
        "            n,s = self.get_data()\n",
        "            # print(n.shape)\n",
        "            inds = np.arange(n_class)\n",
        "            shuffle(inds)\n",
        "            gmu = gmus[inds[0]]\n",
        "            #            gmu = choice(gmus)\n",
        "            sn  = self.pre_process(n,s,gmu)\n",
        "            # print(np.std(sn))\n",
        "            sn = np.float32(sn)\n",
        "            sn = cv.bilateralFilter(sn,3,1e-3,1e-3)\n",
        "            # sn = (sn - np.min(sn))/(np.max(sn) - np.min(sn))\n",
        "            sn = (sn - np.mean(sn))/(np.std(sn) + 1e-30)\n",
        "            sn = np.expand_dims(sn,-1)\n",
        "\n",
        "            X.append(sn)\n",
        "            #            Y.append(-np.log10(gmu+1e-30))\n",
        "            lbl = n_class*[0]\n",
        "            lbl[inds[0]] = 1\n",
        "            Y.append(lbl)\n",
        "\n",
        "        X = np.array(X)\n",
        "        Y = np.array(Y)\n",
        "\n",
        "        return X,Y"
      ],
      "execution_count": 13,
      "outputs": []
    },
    {
      "cell_type": "code",
      "metadata": {
        "id": "d9iLFRpPPBYa"
      },
      "source": [
        "dofilt = 'y'\n",
        "\n",
        "if dofilt[0]=='y':\n",
        "    import ccgpack as ccg\n",
        "    def filt(x):\n",
        "        return ccg.filters(x,edd_method='sch')\n",
        "else:\n",
        "    filt = None"
      ],
      "execution_count": 14,
      "outputs": []
    },
    {
      "cell_type": "code",
      "metadata": {
        "id": "W6r2VwysO2Pd",
        "colab": {
          "base_uri": "https://localhost:8080/"
        },
        "outputId": "d1d96812-3da0-4e7d-fced-5ebfcddc1672"
      },
      "source": [
        "gmus = [0]+list(5* 10**np.linspace(-8 , -5 , 10))\n",
        "n_class = len(gmus)\n",
        "print(gmus)"
      ],
      "execution_count": 44,
      "outputs": [
        {
          "output_type": "stream",
          "text": [
            "[0, 5e-08, 1.0772173450159411e-07, 2.320794416806391e-07, 5e-07, 1.0772173450159411e-06, 2.3207944168063863e-06, 4.9999999999999996e-06, 1.0772173450159412e-05, 2.3207944168063865e-05, 5e-05]\n"
          ],
          "name": "stdout"
        }
      ]
    },
    {
      "cell_type": "code",
      "metadata": {
        "id": "2hLRJFD9PEtL",
        "colab": {
          "base_uri": "https://localhost:8080/"
        },
        "outputId": "e3e1f6a6-ecac-4724-c79c-51fa0bca080f"
      },
      "source": [
        "odp = OrganizedDataProvider(g_files,s_files,\n",
        "                              gmus=gmus,\n",
        "                              s2n = 20., \n",
        "                              nx=256,ny=256,n_buffer=10,\n",
        "                              reload_rate=1e5,filt=filt,test=1 , noisy=1)"
      ],
      "execution_count": 17,
      "outputs": [
        {
          "output_type": "stream",
          "text": [
            "Data provider is reloading...\n"
          ],
          "name": "stdout"
        }
      ]
    },
    {
      "cell_type": "code",
      "metadata": {
        "id": "z26G61hdELoB",
        "colab": {
          "base_uri": "https://localhost:8080/"
        },
        "outputId": "98cf993b-ddfd-4257-ccdf-f7cbba99ad35"
      },
      "source": [
        "x , y = odp(1)\n",
        "np.argmax(y)"
      ],
      "execution_count": 18,
      "outputs": [
        {
          "output_type": "execute_result",
          "data": {
            "text/plain": [
              "4"
            ]
          },
          "metadata": {
            "tags": []
          },
          "execution_count": 18
        }
      ]
    },
    {
      "cell_type": "code",
      "metadata": {
        "id": "k40t4ESgjXil"
      },
      "source": [
        "# c=0 \n",
        "\n",
        "# for i in range(120):\n",
        "#     c+= np.std(np.load('./data/Healpix_p/'+str(i)+'.npy'))\n",
        "# print(c/120)"
      ],
      "execution_count": null,
      "outputs": []
    },
    {
      "cell_type": "code",
      "metadata": {
        "id": "HGxGZGEUjgAe",
        "colab": {
          "base_uri": "https://localhost:8080/"
        },
        "outputId": "a4bb3572-6af9-453e-9703-49da2e1f8acd"
      },
      "source": [
        "np.std(np.load('./data/string_p/0.npy'))"
      ],
      "execution_count": 19,
      "outputs": [
        {
          "output_type": "execute_result",
          "data": {
            "text/plain": [
              "15.552519"
            ]
          },
          "metadata": {
            "tags": []
          },
          "execution_count": 19
        }
      ]
    },
    {
      "cell_type": "code",
      "metadata": {
        "id": "jICIPGBlBxEY"
      },
      "source": [
        "x , y = odp(1)"
      ],
      "execution_count": 20,
      "outputs": []
    },
    {
      "cell_type": "code",
      "metadata": {
        "id": "pse5fDQr1khh",
        "colab": {
          "base_uri": "https://localhost:8080/",
          "height": 340
        },
        "outputId": "648556fb-4ba6-4e61-e00c-c6d69297e260"
      },
      "source": [
        "plt.figure(figsize = (5,5))\n",
        "plt.imshow(odp(1)[0][0,:,:,0] , cmap='jet')"
      ],
      "execution_count": 21,
      "outputs": [
        {
          "output_type": "execute_result",
          "data": {
            "text/plain": [
              "<matplotlib.image.AxesImage at 0x7f4edd59f510>"
            ]
          },
          "metadata": {
            "tags": []
          },
          "execution_count": 21
        },
        {
          "output_type": "display_data",
          "data": {
            "image/png": "[encoded data removed]",
            "text/plain": [
              "<Figure size 360x360 with 1 Axes>"
            ]
          },
          "metadata": {
            "tags": [],
            "needs_background": "light"
          }
        }
      ]
    },
    {
      "cell_type": "code",
      "metadata": {
        "id": "3dfuIlyLPHgw",
        "colab": {
          "base_uri": "https://localhost:8080/"
        },
        "outputId": "6843dcd8-1c3d-44b6-f725-36bffdd0f7a2"
      },
      "source": [
        "g_test = sorted(glob('./data/test/healpix_p/*.npy'))\n",
        "# s_test = sorted(glob('./data/test/string_p/*.npy'))\n",
        "\n",
        "if len(g_test)*len(s_files)==0:\n",
        "    print('Somthing is wrong with initiation.')\n",
        "#     exit()\n",
        "print(len(g_test) , len(s_files))"
      ],
      "execution_count": 22,
      "outputs": [
        {
          "output_type": "stream",
          "text": [
            "60 12\n"
          ],
          "name": "stdout"
        }
      ]
    },
    {
      "cell_type": "code",
      "metadata": {
        "id": "qJTDEKb-PLB9",
        "colab": {
          "base_uri": "https://localhost:8080/"
        },
        "outputId": "bff940e2-bcbb-4151-c4a6-8c9ae20cfc6b"
      },
      "source": [
        "odp_test = OrganizedDataProvider(g_test,s_files,\n",
        "                                 gmus=gmus,\n",
        "                                 s2n = 20. ,\n",
        "                                 nx=256,ny=256,n_buffer=10,\n",
        "                                 reload_rate=1e5,filt=filt,test=1 , noisy=1)"
      ],
      "execution_count": 23,
      "outputs": [
        {
          "output_type": "stream",
          "text": [
            "Data provider is reloading...\n"
          ],
          "name": "stdout"
        }
      ]
    },
    {
      "cell_type": "code",
      "metadata": {
        "id": "PhwsSB5FPLD9"
      },
      "source": [
        "def arch_maker(x,n_conv,n_class):\n",
        "\n",
        "    print(\"\\033[91m ============================= Begin ========================= \\033[0m\")\n",
        "    \n",
        "    for _ in range(4):\n",
        "\n",
        "        x = tf.layers.conv2d(x,filters=8,kernel_size=5,\n",
        "                              strides=(1, 1),padding='same' , trainable=1)\n",
        "        print(x)\n",
        "        x = tf.layers.batch_normalization(x, trainable=1)\n",
        "        print(x)\n",
        "        x = tf.nn.crelu(x)\n",
        "        print(x)\n",
        "\n",
        "    for _ in range(n_conv-2):\n",
        "\n",
        "        x = tf.layers.conv2d(x,filters=8,kernel_size=5,\n",
        "                              strides=(2, 2),padding='same', trainable=1)\n",
        "        print(x)\n",
        "        x = tf.layers.batch_normalization(x, trainable=1)\n",
        "        print(x)\n",
        "        x = tf.nn.crelu(x)\n",
        "        print(x)\n",
        "\n",
        "        x = tf.layers.conv2d(x,filters=16,kernel_size=5,\n",
        "                              strides=(1, 1),padding='same', trainable=1)\n",
        "        print(x)\n",
        "        x = tf.layers.batch_normalization(x, trainable=1)\n",
        "        print(x)\n",
        "        x = tf.nn.crelu(x)\n",
        "        print(x)\n",
        "        x = tf.layers.max_pooling2d(x,pool_size=2,strides=1)\n",
        "        print(x)\n",
        "        \n",
        "    for _ in range(2):\n",
        "\n",
        "        x = tf.layers.conv2d(x,filters=8,kernel_size=5,\n",
        "                              strides=(2, 2),padding='same', trainable=1)\n",
        "        print(x)\n",
        "        x = tf.layers.batch_normalization(x, trainable=1)\n",
        "        print(x)\n",
        "        x = tf.nn.crelu(x)\n",
        "        print(x)\n",
        "\n",
        "        x = tf.layers.conv2d(x,filters=16,kernel_size=5,\n",
        "                              strides=(1, 1),padding='same', trainable=1)\n",
        "        print(x)\n",
        "        x = tf.layers.batch_normalization(x, trainable=1)\n",
        "        print(x)\n",
        "        x = tf.nn.crelu(x)\n",
        "        print(x)\n",
        "        x = tf.layers.max_pooling2d(x,pool_size=2,strides=1)\n",
        "        print(x)\n",
        "\n",
        "    x = tf.contrib.layers.flatten(x)\n",
        "    print(x)\n",
        "    x = tf.layers.dense(x, 40 , activation=tf.nn.crelu)\n",
        "    print(x)\n",
        "    x = tf.nn.dropout( x, keep_prob=0.5)\n",
        "    print(x)\n",
        "    x = tf.layers.dense(x, 20 , activation=tf.nn.crelu)\n",
        "    print(x)\n",
        "    x = tf.nn.dropout( x, keep_prob=0.5)\n",
        "    print(x)\n",
        "    y = tf.layers.dense(x, n_class, activation=tf.nn.softmax)\n",
        "    print(y)\n",
        "\n",
        "    print(\"\\033[91m ============================ END ============================= \\033[0m\")\n",
        "\n",
        "    return y"
      ],
      "execution_count": 24,
      "outputs": []
    },
    {
      "cell_type": "code",
      "metadata": {
        "id": "QY-sUIFYPSqZ"
      },
      "source": [
        "restore = os.path.isdir('./models/model_s4ii')\n",
        "restore = 1"
      ],
      "execution_count": 25,
      "outputs": []
    },
    {
      "cell_type": "code",
      "metadata": {
        "id": "7NnJ2Fv_PVnP"
      },
      "source": [
        "def arch(x):\n",
        "    return arch_maker(x,6,n_class)    "
      ],
      "execution_count": 26,
      "outputs": []
    },
    {
      "cell_type": "code",
      "metadata": {
        "id": "GxJJd7mpPYaT"
      },
      "source": [
        "def loss(y_true,x_out):\n",
        "    return tf.losses.huber_loss(y_true,x_out)  "
      ],
      "execution_count": 27,
      "outputs": []
    },
    {
      "cell_type": "code",
      "metadata": {
        "id": "0E75Z-vqPcLe",
        "colab": {
          "base_uri": "https://localhost:8080/"
        },
        "outputId": "662e8a74-2146-448a-e94c-05dbde3e1ff7"
      },
      "source": [
        "conv = ng.Model(data_provider= odp,\n",
        "                 optimizer=tf.train.AdamOptimizer,\n",
        "                 loss = loss,\n",
        "                 restore=restore,\n",
        "                 model_add= './models/models/model_s4ii',\n",
        "                 arch=arch)"
      ],
      "execution_count": 29,
      "outputs": [
        {
          "output_type": "stream",
          "text": [
            "\u001b[91m ============================= Begin ========================= \u001b[0m\n",
            "Tensor(\"conv2d/BiasAdd:0\", shape=(?, 256, 256, 8), dtype=float32)\n",
            "Tensor(\"batch_normalization/FusedBatchNormV3:0\", shape=(?, 256, 256, 8), dtype=float32)\n",
            "Tensor(\"CRelu/Relu:0\", shape=(?, 256, 256, 16), dtype=float32)\n",
            "Tensor(\"conv2d_1/BiasAdd:0\", shape=(?, 256, 256, 8), dtype=float32)\n",
            "Tensor(\"batch_normalization_1/FusedBatchNormV3:0\", shape=(?, 256, 256, 8), dtype=float32)\n",
            "Tensor(\"CRelu_1/Relu:0\", shape=(?, 256, 256, 16), dtype=float32)\n",
            "Tensor(\"conv2d_2/BiasAdd:0\", shape=(?, 256, 256, 8), dtype=float32)\n",
            "Tensor(\"batch_normalization_2/FusedBatchNormV3:0\", shape=(?, 256, 256, 8), dtype=float32)\n",
            "Tensor(\"CRelu_2/Relu:0\", shape=(?, 256, 256, 16), dtype=float32)\n",
            "Tensor(\"conv2d_3/BiasAdd:0\", shape=(?, 256, 256, 8), dtype=float32)\n",
            "Tensor(\"batch_normalization_3/FusedBatchNormV3:0\", shape=(?, 256, 256, 8), dtype=float32)\n",
            "Tensor(\"CRelu_3/Relu:0\", shape=(?, 256, 256, 16), dtype=float32)\n",
            "Tensor(\"conv2d_4/BiasAdd:0\", shape=(?, 128, 128, 8), dtype=float32)\n",
            "Tensor(\"batch_normalization_4/FusedBatchNormV3:0\", shape=(?, 128, 128, 8), dtype=float32)\n",
            "Tensor(\"CRelu_4/Relu:0\", shape=(?, 128, 128, 16), dtype=float32)\n",
            "Tensor(\"conv2d_5/BiasAdd:0\", shape=(?, 128, 128, 16), dtype=float32)\n",
            "Tensor(\"batch_normalization_5/FusedBatchNormV3:0\", shape=(?, 128, 128, 16), dtype=float32)\n",
            "Tensor(\"CRelu_5/Relu:0\", shape=(?, 128, 128, 32), dtype=float32)\n",
            "Tensor(\"max_pooling2d/MaxPool:0\", shape=(?, 127, 127, 32), dtype=float32)\n",
            "Tensor(\"conv2d_6/BiasAdd:0\", shape=(?, 64, 64, 8), dtype=float32)\n",
            "Tensor(\"batch_normalization_6/FusedBatchNormV3:0\", shape=(?, 64, 64, 8), dtype=float32)\n",
            "Tensor(\"CRelu_6/Relu:0\", shape=(?, 64, 64, 16), dtype=float32)\n",
            "Tensor(\"conv2d_7/BiasAdd:0\", shape=(?, 64, 64, 16), dtype=float32)\n",
            "Tensor(\"batch_normalization_7/FusedBatchNormV3:0\", shape=(?, 64, 64, 16), dtype=float32)\n",
            "Tensor(\"CRelu_7/Relu:0\", shape=(?, 64, 64, 32), dtype=float32)\n",
            "Tensor(\"max_pooling2d_1/MaxPool:0\", shape=(?, 63, 63, 32), dtype=float32)\n",
            "Tensor(\"conv2d_8/BiasAdd:0\", shape=(?, 32, 32, 8), dtype=float32)\n",
            "Tensor(\"batch_normalization_8/FusedBatchNormV3:0\", shape=(?, 32, 32, 8), dtype=float32)\n",
            "Tensor(\"CRelu_8/Relu:0\", shape=(?, 32, 32, 16), dtype=float32)\n",
            "Tensor(\"conv2d_9/BiasAdd:0\", shape=(?, 32, 32, 16), dtype=float32)\n",
            "Tensor(\"batch_normalization_9/FusedBatchNormV3:0\", shape=(?, 32, 32, 16), dtype=float32)\n",
            "Tensor(\"CRelu_9/Relu:0\", shape=(?, 32, 32, 32), dtype=float32)\n",
            "Tensor(\"max_pooling2d_2/MaxPool:0\", shape=(?, 31, 31, 32), dtype=float32)\n",
            "Tensor(\"conv2d_10/BiasAdd:0\", shape=(?, 16, 16, 8), dtype=float32)\n",
            "Tensor(\"batch_normalization_10/FusedBatchNormV3:0\", shape=(?, 16, 16, 8), dtype=float32)\n",
            "Tensor(\"CRelu_10/Relu:0\", shape=(?, 16, 16, 16), dtype=float32)\n",
            "Tensor(\"conv2d_11/BiasAdd:0\", shape=(?, 16, 16, 16), dtype=float32)\n",
            "Tensor(\"batch_normalization_11/FusedBatchNormV3:0\", shape=(?, 16, 16, 16), dtype=float32)\n",
            "Tensor(\"CRelu_11/Relu:0\", shape=(?, 16, 16, 32), dtype=float32)\n",
            "Tensor(\"max_pooling2d_3/MaxPool:0\", shape=(?, 15, 15, 32), dtype=float32)\n",
            "Tensor(\"conv2d_12/BiasAdd:0\", shape=(?, 8, 8, 8), dtype=float32)\n",
            "Tensor(\"batch_normalization_12/FusedBatchNormV3:0\", shape=(?, 8, 8, 8), dtype=float32)\n",
            "Tensor(\"CRelu_12/Relu:0\", shape=(?, 8, 8, 16), dtype=float32)\n",
            "Tensor(\"conv2d_13/BiasAdd:0\", shape=(?, 8, 8, 16), dtype=float32)\n",
            "Tensor(\"batch_normalization_13/FusedBatchNormV3:0\", shape=(?, 8, 8, 16), dtype=float32)\n",
            "Tensor(\"CRelu_13/Relu:0\", shape=(?, 8, 8, 32), dtype=float32)\n",
            "Tensor(\"max_pooling2d_4/MaxPool:0\", shape=(?, 7, 7, 32), dtype=float32)\n",
            "Tensor(\"conv2d_14/BiasAdd:0\", shape=(?, 4, 4, 8), dtype=float32)\n",
            "Tensor(\"batch_normalization_14/FusedBatchNormV3:0\", shape=(?, 4, 4, 8), dtype=float32)\n",
            "Tensor(\"CRelu_14/Relu:0\", shape=(?, 4, 4, 16), dtype=float32)\n",
            "Tensor(\"conv2d_15/BiasAdd:0\", shape=(?, 4, 4, 16), dtype=float32)\n",
            "Tensor(\"batch_normalization_15/FusedBatchNormV3:0\", shape=(?, 4, 4, 16), dtype=float32)\n",
            "Tensor(\"CRelu_15/Relu:0\", shape=(?, 4, 4, 32), dtype=float32)\n",
            "Tensor(\"max_pooling2d_5/MaxPool:0\", shape=(?, 3, 3, 32), dtype=float32)\n",
            "Tensor(\"Flatten/flatten/Reshape:0\", shape=(?, 288), dtype=float32)\n",
            "Tensor(\"dense/CRelu/Relu:0\", shape=(?, 80), dtype=float32)\n",
            "Tensor(\"dropout/mul_1:0\", shape=(?, 80), dtype=float32)\n",
            "Tensor(\"dense_1/CRelu/Relu:0\", shape=(?, 40), dtype=float32)\n",
            "Tensor(\"dropout_1/mul_1:0\", shape=(?, 40), dtype=float32)\n",
            "Tensor(\"dense_2/Softmax:0\", shape=(?, 11), dtype=float32)\n",
            "\u001b[91m ============================ END ============================= \u001b[0m\n"
          ],
          "name": "stdout"
        },
        {
          "output_type": "stream",
          "text": [
            "/tensorflow-1.15.2/python3.7/tensorflow_core/python/client/session.py:1750: UserWarning: An interactive session is already active. This can cause out-of-memory errors in some cases. You must explicitly call `InteractiveSession.close()` to release resources held by the other session(s).\n",
            "  warnings.warn('An interactive session is already active. This can '\n"
          ],
          "name": "stderr"
        },
        {
          "output_type": "stream",
          "text": [
            "INFO:tensorflow:Restoring parameters from ./models/models/model_s4ii/model\n",
            "\u001b[1;34;40m Model is restored! \u001b[0m\n"
          ],
          "name": "stdout"
        }
      ]
    },
    {
      "cell_type": "markdown",
      "metadata": {
        "id": "vGy__HiBGOxP"
      },
      "source": [
        "#Correction of labels :"
      ]
    },
    {
      "cell_type": "markdown",
      "metadata": {
        "id": "78T5_dy7-g3_"
      },
      "source": [
        "String simulated maps are delta(T)/T . CMB simulations are just delta(T)...\n",
        "So we have to divide gaussian maps to T (ie. Sky temperature which is 2.7 kelvin)\n",
        "We could do this in our data provider but there is no difference whether we divide Gaussian map to T or divide gmu value to it because at the end we multiply G maps by the gmu. So : "
      ]
    },
    {
      "cell_type": "code",
      "metadata": {
        "colab": {
          "base_uri": "https://localhost:8080/"
        },
        "id": "6cwKrkREGYx7",
        "outputId": "c9ac3702-12e1-4f4a-f8e9-36365e5a163e"
      },
      "source": [
        "gmus_ = [gmus[i]/2.7 for i in range(n_class)]\n",
        "print('\\n', gmus_)   \n",
        "labels = []\n",
        "for gmu in gmus_:\n",
        "    labels.append('{:3.1e}'.format(gmu)) "
      ],
      "execution_count": 48,
      "outputs": [
        {
          "output_type": "stream",
          "text": [
            "\n",
            " [0.0, 1.8518518518518515e-08, 3.9896938704294115e-08, 8.595534877060707e-08, 1.8518518518518516e-07, 3.989693870429411e-07, 8.595534877060689e-07, 1.8518518518518517e-06, 3.989693870429411e-06, 8.59553487706069e-06, 1.8518518518518518e-05]\n"
          ],
          "name": "stdout"
        }
      ]
    },
    {
      "cell_type": "markdown",
      "metadata": {
        "id": "LiagTI1r_9IS"
      },
      "source": [
        "We prefer non-overlapping patchs for validation of the model. So we re-write the dataprovider to a non-overlapping version: "
      ]
    },
    {
      "cell_type": "code",
      "metadata": {
        "id": "MGqRxM-N80gB"
      },
      "source": [
        "def get_slice_seq(data,nx,ny):\n",
        "    cp = []\n",
        "    for i in range(8):\n",
        "        for j in range(8):          \n",
        "            cp.append(data[i*nx:(i+1)*nx , j*ny:(j+1)*ny])\n",
        "    cp = np.array(cp)\n",
        "    return cp"
      ],
      "execution_count": 31,
      "outputs": []
    },
    {
      "cell_type": "code",
      "metadata": {
        "id": "ENVNaDXX83sl"
      },
      "source": [
        "class non_overlap_dp(object):\n",
        "    def __init__(self,n_files,s_files,gmus,s2n,\n",
        "                 nx=0,ny=0,n_buffer=10,\n",
        "                 reload_rate=100,filt=None , test=0 , noisy=1):\n",
        "\n",
        "        self.n_files = n_files\n",
        "        self.s_files = s_files\n",
        "        self.test = test\n",
        "        self.noisy = noisy\n",
        "        self.s2n = s2n\n",
        "\n",
        "        nmin = min(len(n_files),len(s_files))\n",
        "        if n_buffer>= nmin:\n",
        "            n_buffer = nmin\n",
        "            self.reload_rate = 0\n",
        "        else:\n",
        "            self.reload_rate = reload_rate\n",
        "\n",
        "        self.nx,self.ny = nx,ny\n",
        "        self.n_buffer = n_buffer\n",
        "        self.gmus = gmus\n",
        "        if filt is None:\n",
        "            def filt(x):\n",
        "                return x\n",
        "        self.filt = filt\n",
        "        self.counter = 0\n",
        "        self.reload()\n",
        "\n",
        "    def reload(self):\n",
        "        print('Data provider is reloading...')\n",
        "        self.n_set = []\n",
        "        self.s_set = []\n",
        "    #        self.d_set = []\n",
        "        nind = np.random.randint(0,len(self.n_files))\n",
        "        \n",
        "        if self.test:\n",
        "            sind = (nind%12)\n",
        "        else:\n",
        "\n",
        "            sind = np.random.randint(1,3)\n",
        "            if sind==1:\n",
        "                sind = (nind%12)\n",
        "            elif sind==2:\n",
        "                sind = (nind%12)+12\n",
        "            \n",
        "        for i in range(self.n_buffer):\n",
        "            filen = self.n_files[nind]\n",
        "            files = self.s_files[sind]\n",
        "            self.n_set.append(np.load(filen))\n",
        "            signal = np.load(files)\n",
        "            self.s_set.append(signal)\n",
        "\n",
        "    def get_data(self): \n",
        "        self.counter += 1\n",
        "        if self.reload_rate:\n",
        "            if self.counter%self.reload_rate==0: \n",
        "                self.reload() \n",
        "    #        n = choice(self.n_set)\n",
        "        ind = choice(np.arange(self.n_buffer))\n",
        "        s = self.s_set[ind]\n",
        "        n = self.n_set[ind]\n",
        "\n",
        "        return n,s\n",
        "\n",
        "    \n",
        "    def pre_process(self, n, s, gmu):\n",
        "        \n",
        "        sn = []\n",
        "                    \n",
        "        sky = n + gmu*(s)\n",
        "        noise = np.random.normal(0, 0.000109704/self.s2n ,sky.shape)\n",
        "        sky = sky +noise\n",
        "        sky = np.float32(sky)\n",
        "        sky = cv.bilateralFilter(sky,3,1e-3,1e-3)\n",
        "        snslice = get_slice_seq(sky,self.nx,self.ny)\n",
        "        # print(snslice.shape)\n",
        "        for i in range(len(snslice)):                    \n",
        "            sn1 = snslice[i]\n",
        "            sn1 = (sn1 - np.mean(sn1))/(np.std(sn1) + 1e-30)\n",
        "            # print(sn1.shape)\n",
        "            sn.append(sn1[:,:])\n",
        "\n",
        "        sn = np.array(sn)\n",
        "#         print(sn.shape)\n",
        "            \n",
        "        sn = np.expand_dims(sn,-1)\n",
        "\n",
        "        return sn#,d\n",
        "\n",
        "    def __call__(self, n, gmus=None): \n",
        "\n",
        "        if gmus is None:\n",
        "            gmus = self.gmus\n",
        "        n_class = len(gmus)\n",
        "        #        x,y = self.get_data()\n",
        "        X = []\n",
        "        Y = []\n",
        "        for i in range(n):                \n",
        "            n,s = self.get_data()\n",
        "            # print(n.shape)\n",
        "            inds = np.arange(n_class)\n",
        "            shuffle(inds)\n",
        "            gmu = gmus[inds[0]]\n",
        "            #            gmu = choice(gmus)\n",
        "            sn  = self.pre_process(n,s,gmu)\n",
        "            #            rand = np.random.randint(0,2)\n",
        "            #            sn = sn-sn+rand\n",
        "\n",
        "#             sn = (sn - np.min(sn))/(np.max(sn) - np.min(sn))\n",
        "\n",
        "            #            Y.append(-np.log10(gmu+1e-30))\n",
        "\n",
        "            lbl = n_class*[0]\n",
        "            lbl[inds[0]] = 1\n",
        "            Y.append(lbl)\n",
        "            X.append(sn)\n",
        "\n",
        "        X = np.array(X)\n",
        "        Y = np.array(Y)\n",
        "\n",
        "        return X,Y"
      ],
      "execution_count": 55,
      "outputs": []
    },
    {
      "cell_type": "code",
      "metadata": {
        "colab": {
          "base_uri": "https://localhost:8080/"
        },
        "id": "RkdIxRepGY-P",
        "outputId": "e7457b78-e7bb-46ee-8136-409ff686bd49"
      },
      "source": [
        "nodp_test = non_overlap_dp(g_test,s_files,\n",
        "                            gmus=gmus,\n",
        "                            s2n = 20,\n",
        "                            nx=256,ny=256,n_buffer=10,\n",
        "                            reload_rate=1e5,filt=filt,test=1 , noisy=1)"
      ],
      "execution_count": 56,
      "outputs": [
        {
          "output_type": "stream",
          "text": [
            "Data provider is reloading...\n"
          ],
          "name": "stdout"
        }
      ]
    },
    {
      "cell_type": "code",
      "metadata": {
        "colab": {
          "base_uri": "https://localhost:8080/"
        },
        "id": "3_QkKnlWDKlG",
        "outputId": "b9bff0b5-3ab0-4adb-c1ce-1f14876e438c"
      },
      "source": [
        "x,y=nodp_test(1)\n",
        "print(x.shape , y.shape)"
      ],
      "execution_count": 57,
      "outputs": [
        {
          "output_type": "stream",
          "text": [
            "(1, 64, 256, 256, 1) (1, 11)\n"
          ],
          "name": "stdout"
        }
      ]
    },
    {
      "cell_type": "code",
      "metadata": {
        "colab": {
          "base_uri": "https://localhost:8080/",
          "height": 286
        },
        "id": "hm7rqWeFDNRD",
        "outputId": "03c85132-b5c5-47e7-97fc-e3bd6543540c"
      },
      "source": [
        "plt.imshow(x[0,0,:,:,0] , 'jet')"
      ],
      "execution_count": 58,
      "outputs": [
        {
          "output_type": "execute_result",
          "data": {
            "text/plain": [
              "<matplotlib.image.AxesImage at 0x7f4e7ace8550>"
            ]
          },
          "metadata": {
            "tags": []
          },
          "execution_count": 58
        },
        {
          "output_type": "display_data",
          "data": {
            "image/png": "[encoded data removed]",
            "text/plain": [
              "<Figure size 432x288 with 1 Axes>"
            ]
          },
          "metadata": {
            "tags": [],
            "needs_background": "light"
          }
        }
      ]
    },
    {
      "cell_type": "code",
      "metadata": {
        "id": "bxCeZRvzLZVH"
      },
      "source": [
        "Xs = {\n",
        "'x0' : [],\n",
        "'x1' : [],\n",
        "'x2' : [],\n",
        "'x3' : [],\n",
        "'x4' : [],\n",
        "'x5' : [],\n",
        "'x6' : [],\n",
        "'x7' : [],\n",
        "'x8' : [],\n",
        "'x9' : [],\n",
        "'x10' : []\n",
        "}\n"
      ],
      "execution_count": 59,
      "outputs": []
    },
    {
      "cell_type": "code",
      "metadata": {
        "colab": {
          "base_uri": "https://localhost:8080/",
          "height": 618
        },
        "id": "m4aZr9wSGZKv",
        "outputId": "9047bea0-9545-4495-a4d9-614734d66099"
      },
      "source": [
        "Y_t  = [] \n",
        "pr_t = []\n",
        "\n",
        "for _ in range(500):\n",
        "    \n",
        "    x, y = nodp_test(1)\n",
        "    b = 'x{}'.format(np.argmax(y))\n",
        "\n",
        "    pred = []\n",
        "    \n",
        "    for i in range(6):\n",
        "        pred.append(conv.predict(x[:,i,:,:,:]))\n",
        "#     print(np.array(pred).shape)  \n",
        "\n",
        "    preds = np.prod(np.vstack(pred), axis=0)\n",
        "    preds = preds/(sum(preds)+1e-30)\n",
        "#     print(preds)    \n",
        "\n",
        "    (Xs[b]).append( float(np.dot(preds , gmus_)) ) \n",
        "# Xs\n",
        "        \n",
        "    Y_t.append(np.argmax(y))\n",
        "    pr_t.append(np.argmax(preds))\n",
        "\n",
        "\n",
        "conf_plotter(Y_t , pr_t , labels , normalize=1, cmap = plt.cm.YlGn ,\n",
        "             title ='' , save=1 , name='Final CM_s4ii.png')"
      ],
      "execution_count": 60,
      "outputs": [
        {
          "output_type": "execute_result",
          "data": {
            "text/plain": [
              "<matplotlib.axes._subplots.AxesSubplot at 0x7f4e7ada77d0>"
            ]
          },
          "metadata": {
            "tags": []
          },
          "execution_count": 60
        },
        {
          "output_type": "display_data",
          "data": {
            "image/png": "[encoded data removed]",
            "text/plain": [
              "<Figure size 648x648 with 2 Axes>"
            ]
          },
          "metadata": {
            "tags": [],
            "needs_background": "light"
          }
        }
      ]
    },
    {
      "cell_type": "code",
      "metadata": {
        "colab": {
          "base_uri": "https://localhost:8080/"
        },
        "id": "eWqyW4SvO0qt",
        "outputId": "9f9b21a5-8bab-418a-af68-348874b8926f"
      },
      "source": [
        "print(len(Xs['x0']), len(Xs['x1']),len(Xs['x2']),len(Xs['x3']),len(Xs['x4']))"
      ],
      "execution_count": 61,
      "outputs": [
        {
          "output_type": "stream",
          "text": [
            "42 48 48 48 47\n"
          ],
          "name": "stdout"
        }
      ]
    },
    {
      "cell_type": "code",
      "metadata": {
        "colab": {
          "base_uri": "https://localhost:8080/"
        },
        "id": "pgcRefs3KgPv",
        "outputId": "39620f97-d736-49b5-f1db-0fd564acfc4c"
      },
      "source": [
        "from scipy.stats import ttest_ind\n",
        "\n",
        "dist_0 = Xs['x0']\n",
        "pv_d = [1]\n",
        "\n",
        "for i in range(1,n_class):\n",
        "    dist = Xs['x{}'.format(i)]\n",
        "    tt , pval = ttest_ind(dist , dist_0 )\n",
        "    pv_d.append(pval)\n",
        "    \n",
        "    if pval<= 0.05:\n",
        "        print('{:3.2e}'.format(gmus_[i]) , ':' , pval)\n",
        "print('pv_det:' , pv_d)\n",
        "\n",
        "\n",
        "from scipy.interpolate import interp1d\n",
        "\n",
        "f = interp1d(pv_d[:7],gmus_[:7], kind='linear')\n",
        "pv_det = f(0.05)\n",
        "print('pv_det:' , pv_det)"
      ],
      "execution_count": 62,
      "outputs": [
        {
          "output_type": "stream",
          "text": [
            "8.60e-08 : 0.04193612513354885\n",
            "1.85e-07 : 1.3797141112787132e-20\n",
            "3.99e-07 : 5.5326974268696555e-111\n",
            "8.60e-07 : 6.788700941330878e-136\n",
            "1.85e-06 : 8.072678588696734e-195\n",
            "3.99e-06 : 4.726874967154256e-205\n",
            "8.60e-06 : 2.904704089021984e-233\n",
            "1.85e-05 : 8.191910609947418e-278\n",
            "pv_det: [1, 0.844323147360659, 0.6931391696769978, 0.04193612513354885, 1.3797141112787132e-20, 5.5326974268696555e-111, 6.788700941330878e-136, 8.072678588696734e-195, 4.726874967154256e-205, 2.904704089021984e-233, 8.191910609947418e-278]\n",
            "pv_det: 8.538500552907196e-08\n"
          ],
          "name": "stdout"
        }
      ]
    },
    {
      "cell_type": "code",
      "metadata": {
        "colab": {
          "base_uri": "https://localhost:8080/",
          "height": 297
        },
        "id": "cRcbJv-7H2zF",
        "outputId": "0c10f219-a0c2-4ba9-cd98-9b5ff8f2884b"
      },
      "source": [
        "plt.axes(xscale='log' , yscale='log')\n",
        "plt.xlabel('$G\\mu$' ,   fontsize=15)\n",
        "plt.ylabel('$\\it{P}$-value' , fontsize=15)\n",
        "plt.plot(gmus_[2:] , pv_d[2:] , 'bo' , gmus_[2:] , pv_d[2:] , 'g--')\n",
        "plt.axvline(8.5e-8, color='red', ls=':')#, label='$\\it{P}$-value = 0.05' )\n",
        "\n",
        "plt.text(1e-7, 1e-240 ,r'$G\\mu$ $\\geq$ $8.5\\times 10^{-8}$' , color='r' ,fontsize=14)\n",
        "plt.tight_layout()\n",
        "plt.savefig('final_pv_s4ii.png')\n",
        "plt.savefig('final_pv_s4ii.pdf')"
      ],
      "execution_count": 67,
      "outputs": [
        {
          "output_type": "display_data",
          "data": {
            "image/png": "[encoded data removed]",
            "text/plain": [
              "<Figure size 432x288 with 1 Axes>"
            ]
          },
          "metadata": {
            "tags": [],
            "needs_background": "light"
          }
        }
      ]
    },
    {
      "cell_type": "code",
      "metadata": {
        "id": "htCvaWOYPLDn"
      },
      "source": [
        ""
      ],
      "execution_count": null,
      "outputs": []
    }
  ]
}