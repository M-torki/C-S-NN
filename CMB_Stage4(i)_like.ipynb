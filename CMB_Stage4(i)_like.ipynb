{
  "nbformat": 4,
  "nbformat_minor": 0,
  "metadata": {
    "colab": {
      "name": "CMB-Stage4(i)-like.ipynb",
      "provenance": [],
      "collapsed_sections": [],
      "include_colab_link": true
    },
    "kernelspec": {
      "name": "python3",
      "display_name": "Python 3"
    },
    "accelerator": "GPU"
  },
  "cells": [
    {
      "cell_type": "markdown",
      "metadata": {
        "id": "view-in-github",
        "colab_type": "text"
      },
      "source": [
        "<a href=\"https://colab.research.google.com/github/M-torki/CSNN/blob/master/CMB_Stage4(i)_like.ipynb\" target=\"_parent\"><img src=\"https://colab.research.google.com/assets/colab-badge.svg\" alt=\"Open In Colab\"/></a>"
      ]
    },
    {
      "cell_type": "code",
      "metadata": {
        "id": "6JJP4gTEZE38",
        "colab": {
          "base_uri": "https://localhost:8080/"
        },
        "outputId": "a37bfd60-a5ec-47d2-f70f-93be9de81899"
      },
      "source": [
        "%tensorflow_version 1.x"
      ],
      "execution_count": null,
      "outputs": [
        {
          "output_type": "stream",
          "text": [
            "TensorFlow 1.x selected.\n"
          ],
          "name": "stdout"
        }
      ]
    },
    {
      "cell_type": "code",
      "metadata": {
        "id": "VzrKNS0fM08_",
        "colab": {
          "base_uri": "https://localhost:8080/"
        },
        "outputId": "949079e4-e54a-482b-c168-0b8b4418feee"
      },
      "source": [
        "from google.colab import drive\n",
        "drive.mount('/gdrive')"
      ],
      "execution_count": null,
      "outputs": [
        {
          "output_type": "stream",
          "text": [
            "Mounted at /gdrive\n"
          ],
          "name": "stdout"
        }
      ]
    },
    {
      "cell_type": "code",
      "metadata": {
        "id": "58fa_AauOQ7N",
        "colab": {
          "base_uri": "https://localhost:8080/"
        },
        "outputId": "02bff722-ccef-4aae-da65-3fb5ffef99d5"
      },
      "source": [
        "cd /gdrive/My\\ Drive/"
      ],
      "execution_count": null,
      "outputs": [
        {
          "output_type": "stream",
          "text": [
            "/gdrive/My Drive\n"
          ],
          "name": "stdout"
        }
      ]
    },
    {
      "cell_type": "code",
      "metadata": {
        "id": "NRghSAwNOc6q",
        "colab": {
          "base_uri": "https://localhost:8080/"
        },
        "outputId": "ae6733d0-8767-48d9-813f-ffe733946723"
      },
      "source": [
        "!pip install git+https://github.com/vafaei-ar/ccgpack.git"
      ],
      "execution_count": null,
      "outputs": [
        {
          "output_type": "stream",
          "text": [
            "Collecting git+https://github.com/vafaei-ar/ccgpack.git\n",
            "  Cloning https://github.com/vafaei-ar/ccgpack.git to /tmp/pip-req-build-v474j4pq\n",
            "  Running command git clone -q https://github.com/vafaei-ar/ccgpack.git /tmp/pip-req-build-v474j4pq\n",
            "Building wheels for collected packages: ccgpack\n",
            "  Building wheel for ccgpack (setup.py) ... \u001b[?25l\u001b[?25hdone\n",
            "  Created wheel for ccgpack: filename=ccgpack-0.1.0-cp36-cp36m-linux_x86_64.whl size=907228 sha256=9b1b857f881866dc527d7d2508a97cdeb9874e98b276d4c9c6d8cc2fcaae9693\n",
            "  Stored in directory: /tmp/pip-ephem-wheel-cache-mlx7v37s/wheels/a8/3c/86/3720d002b7c606972520b7468f7b9daf3da3acc3052facac45\n",
            "Successfully built ccgpack\n",
            "Installing collected packages: ccgpack\n",
            "Successfully installed ccgpack-0.1.0\n"
          ],
          "name": "stdout"
        }
      ]
    },
    {
      "cell_type": "code",
      "metadata": {
        "id": "LPuK_Jt4OgK1",
        "colab": {
          "base_uri": "https://localhost:8080/"
        },
        "outputId": "ecc18fd6-7efa-47f9-f836-da3e338b9c1c"
      },
      "source": [
        "!pip install git+https://github.com/vafaei-ar/Ngene.git"
      ],
      "execution_count": null,
      "outputs": [
        {
          "output_type": "stream",
          "text": [
            "Collecting git+https://github.com/vafaei-ar/Ngene.git\n",
            "  Cloning https://github.com/vafaei-ar/Ngene.git to /tmp/pip-req-build-hdx2g0__\n",
            "  Running command git clone -q https://github.com/vafaei-ar/Ngene.git /tmp/pip-req-build-hdx2g0__\n",
            "Building wheels for collected packages: ngene\n",
            "  Building wheel for ngene (setup.py) ... \u001b[?25l\u001b[?25hdone\n",
            "  Created wheel for ngene: filename=ngene-0.1.0-cp36-none-any.whl size=11660 sha256=f8b2a806ed4eff2972d9d98dd373acd4c9de81f875089c1c2e4780bdb727e02c\n",
            "  Stored in directory: /tmp/pip-ephem-wheel-cache-q23s6mgt/wheels/f7/d2/a8/1dae975d187b4a9790d83da45caaef0d018b41ffc0ab7fceb7\n",
            "Successfully built ngene\n",
            "Installing collected packages: ngene\n",
            "Successfully installed ngene-0.1.0\n"
          ],
          "name": "stdout"
        }
      ]
    },
    {
      "cell_type": "code",
      "metadata": {
        "id": "UvkgztZJOmwP",
        "colab": {
          "base_uri": "https://localhost:8080/"
        },
        "outputId": "381fd4e7-a1af-4587-f0e2-01098ff7fed5"
      },
      "source": [
        "import os\n",
        "import ngene as ng\n",
        "import numpy as np\n",
        "import pylab as plt\n",
        "from glob import glob\n",
        "import tensorflow as tf\n",
        "from random import choice,shuffle\n",
        "from sklearn.metrics import accuracy_score\n",
        "import cv2 as cv"
      ],
      "execution_count": null,
      "outputs": [
        {
          "output_type": "stream",
          "text": [
            "WARNING:tensorflow:From /tensorflow-1.15.2/python3.6/tensorflow_core/python/compat/v2_compat.py:68: disable_resource_variables (from tensorflow.python.ops.variable_scope) is deprecated and will be removed in a future version.\n",
            "Instructions for updating:\n",
            "non-resource variables are not supported in the long term\n"
          ],
          "name": "stdout"
        }
      ]
    },
    {
      "cell_type": "code",
      "metadata": {
        "id": "jzNGqQm43kNh",
        "colab": {
          "base_uri": "https://localhost:8080/",
          "height": 353
        },
        "outputId": "32ccc660-f40e-4437-e64b-b3e62dd61529"
      },
      "source": [
        "!nvidia-smi"
      ],
      "execution_count": null,
      "outputs": [
        {
          "output_type": "stream",
          "text": [
            "Fri Jul 17 08:51:59 2020       \n",
            "+-----------------------------------------------------------------------------+\n",
            "| NVIDIA-SMI 450.51.05    Driver Version: 418.67       CUDA Version: 10.1     |\n",
            "|-------------------------------+----------------------+----------------------+\n",
            "| GPU  Name        Persistence-M| Bus-Id        Disp.A | Volatile Uncorr. ECC |\n",
            "| Fan  Temp  Perf  Pwr:Usage/Cap|         Memory-Usage | GPU-Util  Compute M. |\n",
            "|                               |                      |               MIG M. |\n",
            "|===============================+======================+======================|\n",
            "|   0  Tesla P100-PCIE...  Off  | 00000000:00:04.0 Off |                    0 |\n",
            "| N/A   34C    P0    29W / 250W |      0MiB / 16280MiB |      0%      Default |\n",
            "|                               |                      |                 ERR! |\n",
            "+-------------------------------+----------------------+----------------------+\n",
            "                                                                               \n",
            "+-----------------------------------------------------------------------------+\n",
            "| Processes:                                                                  |\n",
            "|  GPU   GI   CI        PID   Type   Process name                  GPU Memory |\n",
            "|        ID   ID                                                   Usage      |\n",
            "|=============================================================================|\n",
            "|  No running processes found                                                 |\n",
            "+-----------------------------------------------------------------------------+\n"
          ],
          "name": "stdout"
        }
      ]
    },
    {
      "cell_type": "code",
      "metadata": {
        "id": "TezKZaMZ7vPY",
        "colab": {
          "base_uri": "https://localhost:8080/",
          "height": 36
        },
        "outputId": "71e1c21e-2452-4fe5-9bde-d5a358a2c2f8"
      },
      "source": [
        "tf.test.gpu_device_name()"
      ],
      "execution_count": null,
      "outputs": [
        {
          "output_type": "execute_result",
          "data": {
            "application/vnd.google.colaboratory.intrinsic": {
              "type": "string"
            },
            "text/plain": [
              "'/device:GPU:0'"
            ]
          },
          "metadata": {
            "tags": []
          },
          "execution_count": 8
        }
      ]
    },
    {
      "cell_type": "code",
      "metadata": {
        "id": "s7R7ohtE75lg",
        "colab": {
          "base_uri": "https://localhost:8080/",
          "height": 470
        },
        "outputId": "935330c9-d4ba-4283-e421-89a277a02bba"
      },
      "source": [
        "from tensorflow.python.client import device_lib\n",
        "device_lib.list_local_devices()"
      ],
      "execution_count": null,
      "outputs": [
        {
          "output_type": "execute_result",
          "data": {
            "text/plain": [
              "[name: \"/device:CPU:0\"\n",
              " device_type: \"CPU\"\n",
              " memory_limit: 268435456\n",
              " locality {\n",
              " }\n",
              " incarnation: 15333375194710822002, name: \"/device:XLA_CPU:0\"\n",
              " device_type: \"XLA_CPU\"\n",
              " memory_limit: 17179869184\n",
              " locality {\n",
              " }\n",
              " incarnation: 12314529489624101047\n",
              " physical_device_desc: \"device: XLA_CPU device\", name: \"/device:XLA_GPU:0\"\n",
              " device_type: \"XLA_GPU\"\n",
              " memory_limit: 17179869184\n",
              " locality {\n",
              " }\n",
              " incarnation: 7140527490520259047\n",
              " physical_device_desc: \"device: XLA_GPU device\", name: \"/device:GPU:0\"\n",
              " device_type: \"GPU\"\n",
              " memory_limit: 15956161332\n",
              " locality {\n",
              "   bus_id: 1\n",
              "   links {\n",
              "   }\n",
              " }\n",
              " incarnation: 3184645713480648911\n",
              " physical_device_desc: \"device: 0, name: Tesla P100-PCIE-16GB, pci bus id: 0000:00:04.0, compute capability: 6.0\"]"
            ]
          },
          "metadata": {
            "tags": []
          },
          "execution_count": 9
        }
      ]
    },
    {
      "cell_type": "code",
      "metadata": {
        "id": "yP7sIIcD2Uhk"
      },
      "source": [
        "# !cat /proc/meminfo"
      ],
      "execution_count": null,
      "outputs": []
    },
    {
      "cell_type": "code",
      "metadata": {
        "id": "NE2-ExHOOia7"
      },
      "source": [
        "import sys\n",
        "sys.path.append('/gdrive/My\\ Drive/git_reps/ccgpack')\n",
        "sys.path.append('/gdrive/My\\ Drive/git_reps/Ngene')"
      ],
      "execution_count": null,
      "outputs": []
    },
    {
      "cell_type": "code",
      "metadata": {
        "id": "BUXvNlu8OpKT"
      },
      "source": [
        "def conf_plotter(y_true, y_pred, classes,\n",
        "                      normalize=0,\n",
        "                      title=None,\n",
        "                      cmap=plt.cm.pink_r,\n",
        "                      mode = 'train',\n",
        "                      save = 0,\n",
        "                      name = 'conf.jpg'):\n",
        "\n",
        "    if not title:\n",
        "        if mode == 'train':\n",
        "            title = 'Normalized confusion matrix on train dataset'\n",
        "        if mode == 'test':\n",
        "            title = 'Normalized confusion matrix on test dataset'\n",
        "        if mode == 'prob':\n",
        "            title = 'Normalized confusion matrix on Non-Overlapping test dataset'\n",
        "            \n",
        "\n",
        "    from sklearn.metrics import confusion_matrix\n",
        "    \n",
        "    cm = confusion_matrix(y_true, y_pred)\n",
        "\n",
        "    if normalize:\n",
        "        cm = cm.astype('float') / cm.sum(axis=1)[:, np.newaxis]\n",
        "\n",
        "\n",
        "    fig, ax = plt.subplots(figsize=(9,9))\n",
        "    im = ax.imshow(cm, cmap=cmap)\n",
        "    ax.figure.colorbar(im, ax=ax ,fraction=0.046, pad=0.04)\n",
        "    ax.set(xticks=np.arange(cm.shape[0]),\n",
        "           yticks=np.arange(cm.shape[1]),\n",
        "           xticklabels=classes, yticklabels=classes,\n",
        "           title=title,\n",
        "           ylabel= 'True label',\n",
        "           xlabel='Predicted label')\n",
        "    \n",
        "    for item in ([ax.title, ax.xaxis.label, ax.yaxis.label] ):\n",
        "                    \n",
        "        item.set_fontsize(15)\n",
        "     \n",
        "    for item in (ax.get_xticklabels() + ax.get_yticklabels()):\n",
        "        \n",
        "        item.set_fontsize(12)\n",
        "\n",
        "                \n",
        "    plt.gca().invert_yaxis()\n",
        "    plt.setp(ax.get_xticklabels(), rotation=45, ha=\"right\",\n",
        "             rotation_mode=\"anchor\")\n",
        "\n",
        "    fmt = '.2f' if normalize else 'd'\n",
        "    thresh = cm.max() / 2.\n",
        "    for i in range(cm.shape[0]):\n",
        "        for j in range(cm.shape[1]):\n",
        "            ax.text(j, i, format(cm[i, j], fmt),\n",
        "                    ha=\"center\", va=\"center\",\n",
        "                    color=\"white\" if cm[i, j] > thresh else \"black\")\n",
        "    fig.tight_layout()\n",
        "    if save == 1:\n",
        "        plt.savefig(name)\n",
        "    return ax"
      ],
      "execution_count": null,
      "outputs": []
    },
    {
      "cell_type": "code",
      "metadata": {
        "id": "XsRWas-nO5c0",
        "colab": {
          "base_uri": "https://localhost:8080/"
        },
        "outputId": "5174d044-7847-4c71-e86f-5a198efedb7f"
      },
      "source": [
        "g_files = sorted(glob('./data/Healpix_p/*.npy'))\n",
        "s_files = sorted(glob('./data/string_p/*.npy'))\n",
        "\n",
        "if len(g_files)*len(s_files)==0:\n",
        "    print('Somthing is wrong with initiation.')\n",
        "    #exit()\n",
        "print(len(g_files),len(s_files))"
      ],
      "execution_count": null,
      "outputs": [
        {
          "output_type": "stream",
          "text": [
            "409 12\n"
          ],
          "name": "stdout"
        }
      ]
    },
    {
      "cell_type": "code",
      "metadata": {
        "id": "LKJepo5vhAC8"
      },
      "source": [
        "# for i in range(200,205):\n",
        "#     print(np.std(np.load('./data/Healpix_p/'+str(i)+'.npy')))"
      ],
      "execution_count": null,
      "outputs": []
    },
    {
      "cell_type": "code",
      "metadata": {
        "id": "D1A8gpp4hKfa",
        "colab": {
          "base_uri": "https://localhost:8080/"
        },
        "outputId": "eeed3203-7c4d-4d55-bd6a-34a8c2545049"
      },
      "source": [
        "np.std(np.load('./data/string_p/0.npy'))"
      ],
      "execution_count": null,
      "outputs": [
        {
          "output_type": "execute_result",
          "data": {
            "text/plain": [
              "15.552519"
            ]
          },
          "metadata": {
            "tags": []
          },
          "execution_count": 11
        }
      ]
    },
    {
      "cell_type": "code",
      "metadata": {
        "id": "ZmSCGUh6D9xr",
        "colab": {
          "base_uri": "https://localhost:8080/"
        },
        "outputId": "f7c09cb5-a648-4b8c-f997-4f14224f1dee"
      },
      "source": [
        "np.std(np.load('./data/Healpix_p/0.npy'))"
      ],
      "execution_count": null,
      "outputs": [
        {
          "output_type": "execute_result",
          "data": {
            "text/plain": [
              "0.00010903541"
            ]
          },
          "metadata": {
            "tags": []
          },
          "execution_count": 12
        }
      ]
    },
    {
      "cell_type": "code",
      "metadata": {
        "id": "g4EVYjWeOuq8"
      },
      "source": [
        "def get_slice(data,nx,ny):\n",
        "    \"\"\"Slice matrix in x and y direction\"\"\"\n",
        "    lx,ly = data.shape  \n",
        "    if nx==0 or nx==lx:\n",
        "        slx = slice(0, lx)                \n",
        "    else:\n",
        "        idx = np.random.randint(0, lx - nx)            \n",
        "        slx = slice(idx, (idx+nx))       \n",
        "    if ny==0 or ny==ly:\n",
        "        sly = slice(0, ly)                \n",
        "    else:\n",
        "        idy = np.random.randint(0, ly - ny)            \n",
        "        sly = slice(idy, (idy+ny))\n",
        "    return slx, sly\n",
        "\n",
        "\n",
        "class OrganizedDataProvider(object):\n",
        "    def __init__(self,n_files,s_files,gmus,\n",
        "                 s2n, \n",
        "                 nx=0,ny=0,n_buffer=10,\n",
        "                 reload_rate=100,filt=None ,test=0 , noisy=1):\n",
        "\n",
        "        self.n_files = n_files\n",
        "        self.s_files = s_files\n",
        "        self.test = test\n",
        "        self.s2n = s2n\n",
        "        self.noisy = noisy\n",
        "\n",
        "        nmin = min(len(n_files),len(s_files))\n",
        "        if n_buffer>= nmin:\n",
        "            n_buffer = nmin\n",
        "            self.reload_rate = 0\n",
        "        else:\n",
        "            self.reload_rate = reload_rate\n",
        "\n",
        "        self.nx,self.ny = nx,ny\n",
        "        self.n_buffer = n_buffer\n",
        "        self.gmus = gmus\n",
        "        if filt is None:\n",
        "            def filt(x):\n",
        "                return x\n",
        "        self.filt = filt\n",
        "        self.counter = 0\n",
        "        self.reload()\n",
        "            \n",
        "    def reload(self):\n",
        "        print('Data provider is reloading...')\n",
        "        self.n_set = []\n",
        "        self.s_set = []\n",
        "    #        self.d_set = []\n",
        "        nind = np.random.randint(0,len(self.n_files))\n",
        "        \n",
        "        if self.test:\n",
        "            sind = (nind%12)\n",
        "        else:\n",
        "\n",
        "            sind = np.random.randint(1,3)\n",
        "            if sind==1:\n",
        "                sind = (nind%12)\n",
        "            elif sind==2:\n",
        "                sind = (nind%12)+12\n",
        "            \n",
        "#         print('sind' , sind , 'nind' , nind)\n",
        "\n",
        "\n",
        "\n",
        "    #        ninds = np.arange(len(self.n_files))\n",
        "    #        sinds = np.arange(len(self.s_files))\n",
        "    #        shuffle(ninds)\n",
        "    #        shuffle(sinds)\n",
        "        for i in range(self.n_buffer):\n",
        "            filen = self.n_files[nind]\n",
        "            files = self.s_files[sind]\n",
        "            self.n_set.append(np.load(filen))\n",
        "            signal = np.load(files)\n",
        "            self.s_set.append(signal)\n",
        "    #            if self.filt:\n",
        "    #                self.d_set.append(self.filt(signal))\n",
        "    #            else:\n",
        "    #                self.d_set.append(signal)\n",
        "    #            \n",
        "\n",
        "    def get_data(self): \n",
        "        self.counter += 1\n",
        "        if self.reload_rate:\n",
        "            if self.counter%self.reload_rate==0: \n",
        "                self.reload() \n",
        "    #        n = choice(self.n_set)\n",
        "        ind = choice(np.arange(self.n_buffer))\n",
        "        s = self.s_set[ind]\n",
        "        n = self.n_set[ind]\n",
        "#         print('ind' , ind)\n",
        "\n",
        "\n",
        "    #        d = self.d_set[sind]\n",
        "        return n,s#,d\n",
        "\n",
        "\n",
        "    def pre_process(self, n, s, gmu):\n",
        "        \n",
        "        sn = n + gmu*s\n",
        "        snslice = get_slice(sn,self.nx,self.ny)\n",
        "        sn = sn[snslice]\n",
        "            #    sslice = get_slice(s,self.nx,self.ny)\n",
        "            #    s = s[sslice]\n",
        "\n",
        "        if self.noisy == 1:\n",
        "            noise = np.random.normal(0, 0.000109704/self.s2n ,sn.shape)\n",
        "            sn = sn +noise\n",
        "\n",
        "        # sn = self.filt(sn)\n",
        "        #        d = d[sslice]\n",
        "        #        d = np.expand_dims(d,-1)\n",
        "        return sn #, (n*1e-6).std()#,d\n",
        "\n",
        "    def __call__(self, n, gmus=None): \n",
        "\n",
        "        if gmus is None:\n",
        "            gmus = self.gmus\n",
        "        n_class = len(gmus)\n",
        "        #        x,y = self.get_data()\n",
        "        X = []\n",
        "        Y = []\n",
        "        for i in range(n):                \n",
        "            n,s = self.get_data()\n",
        "            # print(n.shape)\n",
        "            inds = np.arange(n_class)\n",
        "            shuffle(inds)\n",
        "            gmu = gmus[inds[0]]\n",
        "            #            gmu = choice(gmus)\n",
        "            sn  = self.pre_process(n,s,gmu)\n",
        "            # print(np.std(sn))\n",
        "            sn = np.float32(sn)\n",
        "            sn = cv.bilateralFilter(sn,3,1e-3,1e-3)\n",
        "            # sn = (sn - np.min(sn))/(np.max(sn) - np.min(sn))\n",
        "            sn = (sn - np.mean(sn))/(np.std(sn) + 1e-30)\n",
        "            sn = np.expand_dims(sn,-1)\n",
        "\n",
        "            X.append(sn)\n",
        "            #            Y.append(-np.log10(gmu+1e-30))\n",
        "            lbl = n_class*[0]\n",
        "            lbl[inds[0]] = 1\n",
        "            Y.append(lbl)\n",
        "\n",
        "        X = np.array(X)\n",
        "        Y = np.array(Y)\n",
        "\n",
        "        return X,Y"
      ],
      "execution_count": null,
      "outputs": []
    },
    {
      "cell_type": "code",
      "metadata": {
        "id": "d9iLFRpPPBYa"
      },
      "source": [
        "dofilt = 'y'\n",
        "\n",
        "if dofilt[0]=='y':\n",
        "    import ccgpack as ccg\n",
        "    def filt(x):\n",
        "        return ccg.filters(x,edd_method='sch')\n",
        "else:\n",
        "    filt = None"
      ],
      "execution_count": null,
      "outputs": []
    },
    {
      "cell_type": "code",
      "metadata": {
        "id": "W6r2VwysO2Pd",
        "colab": {
          "base_uri": "https://localhost:8080/"
        },
        "outputId": "9812e67d-010e-4976-f917-85189f7e4480"
      },
      "source": [
        "gmus = [0]+list(5* 10**np.linspace(-8 , -5 , 10))\n",
        "n_class = len(gmus)\n",
        "print(gmus)\n",
        "\n",
        "gmus2 = [gmus[i]*0.17760559 for i in range(n_class)]\n",
        "print(gmus ,'\\n', gmus2)"
      ],
      "execution_count": null,
      "outputs": [
        {
          "output_type": "stream",
          "text": [
            "[0, 5e-08, 1.0772173450159411e-07, 2.320794416806391e-07, 5e-07, 1.0772173450159411e-06, 2.3207944168063863e-06, 4.9999999999999996e-06, 1.0772173450159412e-05, 2.3207944168063865e-05, 5e-05]\n",
            "[0, 5e-08, 1.0772173450159411e-07, 2.320794416806391e-07, 5e-07, 1.0772173450159411e-06, 2.3207944168063863e-06, 4.9999999999999996e-06, 1.0772173450159412e-05, 2.3207944168063865e-05, 5e-05] \n",
            " [0.0, 8.8802795e-09, 1.9131982211978978e-08, 4.12186061665605e-08, 8.8802795e-08, 1.913198221197898e-07, 4.121860616656042e-07, 8.8802795e-07, 1.9131982211978978e-06, 4.121860616656042e-06, 8.880279500000001e-06]\n"
          ],
          "name": "stdout"
        }
      ]
    },
    {
      "cell_type": "code",
      "metadata": {
        "id": "dehNVsKBvYcz"
      },
      "source": [
        "labels = []\n",
        "for gmu in gmus2:\n",
        "    labels.append('{:3.1e}'.format(gmu))"
      ],
      "execution_count": null,
      "outputs": []
    },
    {
      "cell_type": "code",
      "metadata": {
        "id": "2hLRJFD9PEtL",
        "colab": {
          "base_uri": "https://localhost:8080/"
        },
        "outputId": "6fd2e0f6-dbab-4509-8a9c-0adfa91529a9"
      },
      "source": [
        "odp = OrganizedDataProvider(g_files,s_files,\n",
        "                              gmus=gmus,\n",
        "                              s2n = 15., \n",
        "                              nx=256,ny=256,n_buffer=10,\n",
        "                              reload_rate=1e5,filt=filt,test=1 , noisy=1)"
      ],
      "execution_count": null,
      "outputs": [
        {
          "output_type": "stream",
          "text": [
            "Data provider is reloading...\n"
          ],
          "name": "stdout"
        }
      ]
    },
    {
      "cell_type": "code",
      "metadata": {
        "id": "z26G61hdELoB",
        "colab": {
          "base_uri": "https://localhost:8080/"
        },
        "outputId": "15fd9a89-58fc-434e-8301-d2ae01b41a2d"
      },
      "source": [
        "x , y = odp(1)\n",
        "np.argmax(y)"
      ],
      "execution_count": null,
      "outputs": [
        {
          "output_type": "execute_result",
          "data": {
            "text/plain": [
              "9"
            ]
          },
          "metadata": {
            "tags": []
          },
          "execution_count": 18
        }
      ]
    },
    {
      "cell_type": "code",
      "metadata": {
        "id": "k40t4ESgjXil"
      },
      "source": [
        "# c=0 \n",
        "\n",
        "# for i in range(120):\n",
        "#     c+= np.std(np.load('./data/Healpix_p/'+str(i)+'.npy'))\n",
        "# print(c/120)"
      ],
      "execution_count": null,
      "outputs": []
    },
    {
      "cell_type": "code",
      "metadata": {
        "id": "HGxGZGEUjgAe",
        "colab": {
          "base_uri": "https://localhost:8080/",
          "height": 34
        },
        "outputId": "c3a8678b-2d61-47d3-e079-3836c65c5b1a"
      },
      "source": [
        "np.std(np.load('./data/string_p/0.npy'))"
      ],
      "execution_count": null,
      "outputs": [
        {
          "output_type": "execute_result",
          "data": {
            "text/plain": [
              "15.552519"
            ]
          },
          "metadata": {
            "tags": []
          },
          "execution_count": 20
        }
      ]
    },
    {
      "cell_type": "code",
      "metadata": {
        "id": "jICIPGBlBxEY"
      },
      "source": [
        "x , y = odp(1)"
      ],
      "execution_count": null,
      "outputs": []
    },
    {
      "cell_type": "code",
      "metadata": {
        "id": "pse5fDQr1khh",
        "colab": {
          "base_uri": "https://localhost:8080/",
          "height": 340
        },
        "outputId": "c24906cc-e89a-4eeb-af48-546f304e61f6"
      },
      "source": [
        "plt.figure(figsize = (5,5))\n",
        "plt.imshow(odp(1)[0][0,:,:,0] , cmap='jet')"
      ],
      "execution_count": null,
      "outputs": [
        {
          "output_type": "execute_result",
          "data": {
            "text/plain": [
              "<matplotlib.image.AxesImage at 0x7f277490d748>"
            ]
          },
          "metadata": {
            "tags": []
          },
          "execution_count": 22
        },
        {
          "output_type": "display_data",
          "data": {
            "image/png": "[encoded data removed]",
            "text/plain": [
              "<Figure size 360x360 with 1 Axes>"
            ]
          },
          "metadata": {
            "tags": [],
            "needs_background": "light"
          }
        }
      ]
    },
    {
      "cell_type": "code",
      "metadata": {
        "id": "3dfuIlyLPHgw",
        "colab": {
          "base_uri": "https://localhost:8080/"
        },
        "outputId": "370c689b-7145-4924-dcfb-36f51a3b523c"
      },
      "source": [
        "g_test = sorted(glob('./data/test/healpix_p/*.npy'))\n",
        "# s_test = sorted(glob('./data/test/string_p/*.npy'))\n",
        "\n",
        "if len(g_test)*len(s_files)==0:\n",
        "    print('Somthing is wrong with initiation.')\n",
        "#     exit()\n",
        "print(len(g_test) , len(s_files))"
      ],
      "execution_count": null,
      "outputs": [
        {
          "output_type": "stream",
          "text": [
            "60 12\n"
          ],
          "name": "stdout"
        }
      ]
    },
    {
      "cell_type": "code",
      "metadata": {
        "id": "qJTDEKb-PLB9",
        "colab": {
          "base_uri": "https://localhost:8080/"
        },
        "outputId": "0d996c99-36bb-474f-c905-94d957c3153d"
      },
      "source": [
        "odp_test = OrganizedDataProvider(g_test,s_files,\n",
        "                                 gmus=gmus,\n",
        "                                 s2n = 15. ,\n",
        "                                 nx=256,ny=256,n_buffer=10,\n",
        "                                 reload_rate=1e5,filt=filt,test=1 , noisy=1)"
      ],
      "execution_count": null,
      "outputs": [
        {
          "output_type": "stream",
          "text": [
            "Data provider is reloading...\n"
          ],
          "name": "stdout"
        }
      ]
    },
    {
      "cell_type": "code",
      "metadata": {
        "id": "PhwsSB5FPLD9"
      },
      "source": [
        "def arch_maker(x,n_conv,n_class):\n",
        "\n",
        "    print(\"\\033[91m ============================= Begin ========================= \\033[0m\")\n",
        "    \n",
        "    for _ in range(4):\n",
        "\n",
        "        x = tf.layers.conv2d(x,filters=8,kernel_size=5,\n",
        "                              strides=(1, 1),padding='same' , trainable=1)\n",
        "        print(x)\n",
        "        x = tf.layers.batch_normalization(x, trainable=1)\n",
        "        print(x)\n",
        "        x = tf.nn.crelu(x)\n",
        "        print(x)\n",
        "\n",
        "    for _ in range(n_conv-2):\n",
        "\n",
        "        x = tf.layers.conv2d(x,filters=8,kernel_size=5,\n",
        "                              strides=(2, 2),padding='same', trainable=1)\n",
        "        print(x)\n",
        "        x = tf.layers.batch_normalization(x, trainable=1)\n",
        "        print(x)\n",
        "        x = tf.nn.crelu(x)\n",
        "        print(x)\n",
        "\n",
        "        x = tf.layers.conv2d(x,filters=16,kernel_size=5,\n",
        "                              strides=(1, 1),padding='same', trainable=1)\n",
        "        print(x)\n",
        "        x = tf.layers.batch_normalization(x, trainable=1)\n",
        "        print(x)\n",
        "        x = tf.nn.crelu(x)\n",
        "        print(x)\n",
        "        x = tf.layers.max_pooling2d(x,pool_size=2,strides=1)\n",
        "        print(x)\n",
        "        \n",
        "    for _ in range(2):\n",
        "\n",
        "        x = tf.layers.conv2d(x,filters=8,kernel_size=5,\n",
        "                              strides=(2, 2),padding='same', trainable=1)\n",
        "        print(x)\n",
        "        x = tf.layers.batch_normalization(x, trainable=1)\n",
        "        print(x)\n",
        "        x = tf.nn.crelu(x)\n",
        "        print(x)\n",
        "\n",
        "        x = tf.layers.conv2d(x,filters=16,kernel_size=5,\n",
        "                              strides=(1, 1),padding='same', trainable=1)\n",
        "        print(x)\n",
        "        x = tf.layers.batch_normalization(x, trainable=1)\n",
        "        print(x)\n",
        "        x = tf.nn.crelu(x)\n",
        "        print(x)\n",
        "        x = tf.layers.max_pooling2d(x,pool_size=2,strides=1)\n",
        "        print(x)\n",
        "\n",
        "    x = tf.contrib.layers.flatten(x)\n",
        "    print(x)\n",
        "    x = tf.layers.dense(x, 40 , activation=tf.nn.crelu)\n",
        "    print(x)\n",
        "    x = tf.nn.dropout( x, keep_prob=0.5)\n",
        "    print(x)\n",
        "    x = tf.layers.dense(x, 20 , activation=tf.nn.crelu)\n",
        "    print(x)\n",
        "    x = tf.nn.dropout( x, keep_prob=0.5)\n",
        "    print(x)\n",
        "    y = tf.layers.dense(x, n_class, activation=tf.nn.softmax)\n",
        "    print(y)\n",
        "\n",
        "    print(\"\\033[91m ============================ END ============================= \\033[0m\")\n",
        "\n",
        "    return y"
      ],
      "execution_count": null,
      "outputs": []
    },
    {
      "cell_type": "code",
      "metadata": {
        "id": "QY-sUIFYPSqZ"
      },
      "source": [
        "\n",
        "restore = os.path.isdir('./models/model_s4i')\n",
        "restore = 1"
      ],
      "execution_count": null,
      "outputs": []
    },
    {
      "cell_type": "code",
      "metadata": {
        "id": "7NnJ2Fv_PVnP"
      },
      "source": [
        "def arch(x):\n",
        "    return arch_maker(x,6,n_class)    "
      ],
      "execution_count": null,
      "outputs": []
    },
    {
      "cell_type": "code",
      "metadata": {
        "id": "GxJJd7mpPYaT"
      },
      "source": [
        "def loss(y_true,x_out):\n",
        "    return tf.losses.huber_loss(y_true,x_out)  "
      ],
      "execution_count": null,
      "outputs": []
    },
    {
      "cell_type": "code",
      "metadata": {
        "id": "0E75Z-vqPcLe",
        "colab": {
          "base_uri": "https://localhost:8080/"
        },
        "outputId": "2d2bcac3-1f78-49f6-b6ae-93694a8e29c1"
      },
      "source": [
        "conv = ng.Model(data_provider= odp,\n",
        "                 optimizer=tf.train.AdamOptimizer,\n",
        "                 loss = loss,\n",
        "                 restore=restore,\n",
        "                 model_add= './models/model_s4i',\n",
        "                 arch=arch)"
      ],
      "execution_count": null,
      "outputs": [
        {
          "output_type": "stream",
          "text": [
            "\u001b[91m ============================= Begin ========================= \u001b[0m\n",
            "WARNING:tensorflow:From <ipython-input-21-8c0e4464ca3b>:8: conv2d (from tensorflow.python.layers.convolutional) is deprecated and will be removed in a future version.\n",
            "Instructions for updating:\n",
            "Use `tf.keras.layers.Conv2D` instead.\n",
            "WARNING:tensorflow:From /tensorflow-1.15.2/python3.6/tensorflow_core/python/layers/convolutional.py:424: Layer.apply (from tensorflow.python.keras.engine.base_layer) is deprecated and will be removed in a future version.\n",
            "Instructions for updating:\n",
            "Please use `layer.__call__` method instead.\n",
            "Tensor(\"conv2d/BiasAdd:0\", shape=(?, 256, 256, 8), dtype=float32)\n",
            "WARNING:tensorflow:From <ipython-input-21-8c0e4464ca3b>:10: batch_normalization (from tensorflow.python.layers.normalization) is deprecated and will be removed in a future version.\n",
            "Instructions for updating:\n",
            "Use keras.layers.BatchNormalization instead.  In particular, `tf.control_dependencies(tf.GraphKeys.UPDATE_OPS)` should not be used (consult the `tf.keras.layers.batch_normalization` documentation).\n",
            "Tensor(\"batch_normalization/FusedBatchNormV3:0\", shape=(?, 256, 256, 8), dtype=float32)\n",
            "Tensor(\"CRelu/Relu:0\", shape=(?, 256, 256, 16), dtype=float32)\n",
            "Tensor(\"conv2d_1/BiasAdd:0\", shape=(?, 256, 256, 8), dtype=float32)\n",
            "Tensor(\"batch_normalization_1/FusedBatchNormV3:0\", shape=(?, 256, 256, 8), dtype=float32)\n",
            "Tensor(\"CRelu_1/Relu:0\", shape=(?, 256, 256, 16), dtype=float32)\n",
            "Tensor(\"conv2d_2/BiasAdd:0\", shape=(?, 256, 256, 8), dtype=float32)\n",
            "Tensor(\"batch_normalization_2/FusedBatchNormV3:0\", shape=(?, 256, 256, 8), dtype=float32)\n",
            "Tensor(\"CRelu_2/Relu:0\", shape=(?, 256, 256, 16), dtype=float32)\n",
            "Tensor(\"conv2d_3/BiasAdd:0\", shape=(?, 256, 256, 8), dtype=float32)\n",
            "Tensor(\"batch_normalization_3/FusedBatchNormV3:0\", shape=(?, 256, 256, 8), dtype=float32)\n",
            "Tensor(\"CRelu_3/Relu:0\", shape=(?, 256, 256, 16), dtype=float32)\n",
            "Tensor(\"conv2d_4/BiasAdd:0\", shape=(?, 128, 128, 8), dtype=float32)\n",
            "Tensor(\"batch_normalization_4/FusedBatchNormV3:0\", shape=(?, 128, 128, 8), dtype=float32)\n",
            "Tensor(\"CRelu_4/Relu:0\", shape=(?, 128, 128, 16), dtype=float32)\n",
            "Tensor(\"conv2d_5/BiasAdd:0\", shape=(?, 128, 128, 16), dtype=float32)\n",
            "Tensor(\"batch_normalization_5/FusedBatchNormV3:0\", shape=(?, 128, 128, 16), dtype=float32)\n",
            "Tensor(\"CRelu_5/Relu:0\", shape=(?, 128, 128, 32), dtype=float32)\n",
            "WARNING:tensorflow:From <ipython-input-21-8c0e4464ca3b>:32: max_pooling2d (from tensorflow.python.layers.pooling) is deprecated and will be removed in a future version.\n",
            "Instructions for updating:\n",
            "Use keras.layers.MaxPooling2D instead.\n",
            "Tensor(\"max_pooling2d/MaxPool:0\", shape=(?, 127, 127, 32), dtype=float32)\n",
            "Tensor(\"conv2d_6/BiasAdd:0\", shape=(?, 64, 64, 8), dtype=float32)\n",
            "Tensor(\"batch_normalization_6/FusedBatchNormV3:0\", shape=(?, 64, 64, 8), dtype=float32)\n",
            "Tensor(\"CRelu_6/Relu:0\", shape=(?, 64, 64, 16), dtype=float32)\n",
            "Tensor(\"conv2d_7/BiasAdd:0\", shape=(?, 64, 64, 16), dtype=float32)\n",
            "Tensor(\"batch_normalization_7/FusedBatchNormV3:0\", shape=(?, 64, 64, 16), dtype=float32)\n",
            "Tensor(\"CRelu_7/Relu:0\", shape=(?, 64, 64, 32), dtype=float32)\n",
            "Tensor(\"max_pooling2d_1/MaxPool:0\", shape=(?, 63, 63, 32), dtype=float32)\n",
            "Tensor(\"conv2d_8/BiasAdd:0\", shape=(?, 32, 32, 8), dtype=float32)\n",
            "Tensor(\"batch_normalization_8/FusedBatchNormV3:0\", shape=(?, 32, 32, 8), dtype=float32)\n",
            "Tensor(\"CRelu_8/Relu:0\", shape=(?, 32, 32, 16), dtype=float32)\n",
            "Tensor(\"conv2d_9/BiasAdd:0\", shape=(?, 32, 32, 16), dtype=float32)\n",
            "Tensor(\"batch_normalization_9/FusedBatchNormV3:0\", shape=(?, 32, 32, 16), dtype=float32)\n",
            "Tensor(\"CRelu_9/Relu:0\", shape=(?, 32, 32, 32), dtype=float32)\n",
            "Tensor(\"max_pooling2d_2/MaxPool:0\", shape=(?, 31, 31, 32), dtype=float32)\n",
            "Tensor(\"conv2d_10/BiasAdd:0\", shape=(?, 16, 16, 8), dtype=float32)\n",
            "Tensor(\"batch_normalization_10/FusedBatchNormV3:0\", shape=(?, 16, 16, 8), dtype=float32)\n",
            "Tensor(\"CRelu_10/Relu:0\", shape=(?, 16, 16, 16), dtype=float32)\n",
            "Tensor(\"conv2d_11/BiasAdd:0\", shape=(?, 16, 16, 16), dtype=float32)\n",
            "Tensor(\"batch_normalization_11/FusedBatchNormV3:0\", shape=(?, 16, 16, 16), dtype=float32)\n",
            "Tensor(\"CRelu_11/Relu:0\", shape=(?, 16, 16, 32), dtype=float32)\n",
            "Tensor(\"max_pooling2d_3/MaxPool:0\", shape=(?, 15, 15, 32), dtype=float32)\n",
            "Tensor(\"conv2d_12/BiasAdd:0\", shape=(?, 8, 8, 8), dtype=float32)\n",
            "Tensor(\"batch_normalization_12/FusedBatchNormV3:0\", shape=(?, 8, 8, 8), dtype=float32)\n",
            "Tensor(\"CRelu_12/Relu:0\", shape=(?, 8, 8, 16), dtype=float32)\n",
            "Tensor(\"conv2d_13/BiasAdd:0\", shape=(?, 8, 8, 16), dtype=float32)\n",
            "Tensor(\"batch_normalization_13/FusedBatchNormV3:0\", shape=(?, 8, 8, 16), dtype=float32)\n",
            "Tensor(\"CRelu_13/Relu:0\", shape=(?, 8, 8, 32), dtype=float32)\n",
            "Tensor(\"max_pooling2d_4/MaxPool:0\", shape=(?, 7, 7, 32), dtype=float32)\n",
            "Tensor(\"conv2d_14/BiasAdd:0\", shape=(?, 4, 4, 8), dtype=float32)\n",
            "Tensor(\"batch_normalization_14/FusedBatchNormV3:0\", shape=(?, 4, 4, 8), dtype=float32)\n",
            "Tensor(\"CRelu_14/Relu:0\", shape=(?, 4, 4, 16), dtype=float32)\n",
            "Tensor(\"conv2d_15/BiasAdd:0\", shape=(?, 4, 4, 16), dtype=float32)\n",
            "Tensor(\"batch_normalization_15/FusedBatchNormV3:0\", shape=(?, 4, 4, 16), dtype=float32)\n",
            "Tensor(\"CRelu_15/Relu:0\", shape=(?, 4, 4, 32), dtype=float32)\n",
            "Tensor(\"max_pooling2d_5/MaxPool:0\", shape=(?, 3, 3, 32), dtype=float32)\n",
            "WARNING:tensorflow:\n",
            "The TensorFlow contrib module will not be included in TensorFlow 2.0.\n",
            "For more information, please see:\n",
            "  * https://github.com/tensorflow/community/blob/master/rfcs/20180907-contrib-sunset.md\n",
            "  * https://github.com/tensorflow/addons\n",
            "  * https://github.com/tensorflow/io (for I/O related ops)\n",
            "If you depend on functionality not listed there, please file an issue.\n",
            "\n",
            "WARNING:tensorflow:From /tensorflow-1.15.2/python3.6/tensorflow_core/contrib/layers/python/layers/layers.py:1634: flatten (from tensorflow.python.layers.core) is deprecated and will be removed in a future version.\n",
            "Instructions for updating:\n",
            "Use keras.layers.flatten instead.\n",
            "Tensor(\"Flatten/flatten/Reshape:0\", shape=(?, 288), dtype=float32)\n",
            "WARNING:tensorflow:From <ipython-input-21-8c0e4464ca3b>:57: dense (from tensorflow.python.layers.core) is deprecated and will be removed in a future version.\n",
            "Instructions for updating:\n",
            "Use keras.layers.Dense instead.\n",
            "Tensor(\"dense/CRelu/Relu:0\", shape=(?, 80), dtype=float32)\n",
            "WARNING:tensorflow:From <ipython-input-21-8c0e4464ca3b>:59: calling dropout (from tensorflow.python.ops.nn_ops) with keep_prob is deprecated and will be removed in a future version.\n",
            "Instructions for updating:\n",
            "Please use `rate` instead of `keep_prob`. Rate should be set to `rate = 1 - keep_prob`.\n",
            "Tensor(\"dropout/mul_1:0\", shape=(?, 80), dtype=float32)\n",
            "Tensor(\"dense_1/CRelu/Relu:0\", shape=(?, 40), dtype=float32)\n",
            "Tensor(\"dropout_1/mul_1:0\", shape=(?, 40), dtype=float32)\n",
            "Tensor(\"dense_2/Softmax:0\", shape=(?, 11), dtype=float32)\n",
            "\u001b[91m ============================ END ============================= \u001b[0m\n",
            "WARNING:tensorflow:From /tensorflow-1.15.2/python3.6/tensorflow_core/python/ops/losses/losses_impl.py:121: where (from tensorflow.python.ops.array_ops) is deprecated and will be removed in a future version.\n",
            "Instructions for updating:\n",
            "Use tf.where in 2.0, which has the same broadcast rule as np.where\n",
            "INFO:tensorflow:Restoring parameters from ./models/Bilatnoise_s4i/model\n",
            "\u001b[1;34;40m Model is restored! \u001b[0m\n"
          ],
          "name": "stdout"
        }
      ]
    },
    {
      "cell_type": "markdown",
      "metadata": {
        "id": "ws24lcL9_JUN"
      },
      "source": [
        "#Redefining Results:"
      ]
    },
    {
      "cell_type": "code",
      "metadata": {
        "colab": {
          "base_uri": "https://localhost:8080/"
        },
        "id": "lrLGSV11_IoT",
        "outputId": "91928d2c-b3b7-4d7b-c3f6-4bad8528033a"
      },
      "source": [
        "gmus3 = [gmus[i]/2.7 for i in range(n_class)]\n",
        "print('\\n', gmus3)   \n",
        "labels = []\n",
        "for gmu in gmus3:\n",
        "    labels.append('{:3.1e}'.format(gmu)) \n",
        "\n",
        "class Cheater(object):\n",
        "    def __init__(self,n_files,s_files,gmus,s2n,gstd=None,\n",
        "                 nx=0,ny=0,n_buffer=10,\n",
        "                 reload_rate=100,filt=None , test=0 , noisy=1):\n",
        "\n",
        "        self.n_files = n_files\n",
        "        self.s_files = s_files\n",
        "        self.test = test\n",
        "        self.noisy = noisy\n",
        "        self.s2n = s2n\n",
        "        self.gstd = gstd\n",
        "\n",
        "\n",
        "\n",
        "        nmin = min(len(n_files),len(s_files))\n",
        "        if n_buffer>= nmin:\n",
        "            n_buffer = nmin\n",
        "            self.reload_rate = 0\n",
        "        else:\n",
        "            self.reload_rate = reload_rate\n",
        "\n",
        "        self.nx,self.ny = nx,ny\n",
        "        self.n_buffer = n_buffer\n",
        "        self.gmus = gmus\n",
        "        if filt is None:\n",
        "            def filt(x):\n",
        "                return x\n",
        "        self.filt = filt\n",
        "        self.counter = 0\n",
        "        self.reload()\n",
        "\n",
        "    def reload(self):\n",
        "        print('Data provider is reloading...')\n",
        "        self.n_set = []\n",
        "        self.s_set = []\n",
        "    #        self.d_set = []\n",
        "        nind = np.random.randint(0,len(self.n_files))\n",
        "        \n",
        "        if self.test:\n",
        "            sind = (nind%12)\n",
        "        else:\n",
        "\n",
        "            sind = np.random.randint(1,3)\n",
        "            if sind==1:\n",
        "                sind = (nind%12)\n",
        "            elif sind==2:\n",
        "                sind = (nind%12)+12\n",
        "            \n",
        "#         print('sind' , sind , 'nind' , nind)\n",
        "\n",
        "\n",
        "\n",
        "    #        ninds = np.arange(len(self.n_files))\n",
        "    #        sinds = np.arange(len(self.s_files))\n",
        "    #        shuffle(ninds)\n",
        "    #        shuffle(sinds)\n",
        "        for i in range(self.n_buffer):\n",
        "            filen = self.n_files[nind]\n",
        "            files = self.s_files[sind]\n",
        "            self.n_set.append(np.load(filen))\n",
        "            signal = np.load(files)\n",
        "            self.s_set.append(signal)\n",
        "    #            if self.filt:\n",
        "    #                self.d_set.append(self.filt(signal))\n",
        "    #            else:\n",
        "    #                self.d_set.append(signal)\n",
        "    #            \n",
        "\n",
        "    def get_data(self): \n",
        "        self.counter += 1\n",
        "        if self.reload_rate:\n",
        "            if self.counter%self.reload_rate==0: \n",
        "                self.reload() \n",
        "    #        n = choice(self.n_set)\n",
        "        ind = choice(np.arange(self.n_buffer))\n",
        "        s = self.s_set[ind]\n",
        "        n = self.n_set[ind]\n",
        "#         print('ind' , ind)\n",
        "\n",
        "\n",
        "    #        d = self.d_set[sind]\n",
        "        return n,s#,d\n",
        "\n",
        "\n",
        "    def pre_process(self, n, s, gmu):\n",
        "        \n",
        "        sn = []\n",
        "        \n",
        "        for _ in range(30):\n",
        "            \n",
        "            sn1 = n + gmu*(s)\n",
        "            # sn = gmu*(s)\n",
        "\n",
        "            snslice = get_slice(sn1,self.nx,self.ny)\n",
        "            sn1 = sn1[snslice]\n",
        "            if self.noisy == 1:\n",
        "                noise = np.random.normal(0, 0.000109704/self.s2n ,sn1.shape)\n",
        "                sn1 = sn1 +noise\n",
        "            sn1 = np.float32(sn1)\n",
        "            sn1 = cv.bilateralFilter(sn1,3,1e-3,1e-3)\n",
        "            # sn1 = self.filt(sn1)\n",
        "            sn1 = (sn1 - np.mean(sn1))/(np.std(sn1) + 1e-30)\n",
        "\n",
        "\n",
        "            sn.append(sn1)\n",
        "            \n",
        "\n",
        "        #        sslice = get_slice(s,self.nx,self.ny)\n",
        "        #        s = s[sslice]\n",
        "\n",
        "        #        d = d[sslice]\n",
        "        sn = np.expand_dims(sn,-1)\n",
        "        #        d = np.expand_dims(d,-1)\n",
        "        return sn#,d\n",
        "\n",
        "    def __call__(self, n, gmus=None): \n",
        "\n",
        "        if gmus is None:\n",
        "            gmus = self.gmus\n",
        "        n_class = len(gmus)\n",
        "        #        x,y = self.get_data()\n",
        "        X = []\n",
        "        Y = []\n",
        "        for i in range(n):                \n",
        "            n,s = self.get_data()\n",
        "            # print(n.shape)\n",
        "            inds = np.arange(n_class)\n",
        "            shuffle(inds)\n",
        "            gmu = gmus[inds[0]]\n",
        "            #            gmu = choice(gmus)\n",
        "            sn  = self.pre_process(n,s,gmu)\n",
        "            #            rand = np.random.randint(0,2)\n",
        "            #            sn = sn-sn+rand\n",
        "\n",
        "#             sn = (sn - np.min(sn))/(np.max(sn) - np.min(sn))\n",
        "\n",
        "            #            Y.append(-np.log10(gmu+1e-30))\n",
        "\n",
        "            lbl = n_class*[0]\n",
        "            lbl[inds[0]] = 1\n",
        "            Y.append(lbl)\n",
        "            X.append(sn)\n",
        "\n",
        "\n",
        "        X = np.array(X)\n",
        "        Y = np.array(Y)\n",
        "\n",
        "        return X,Y"
      ],
      "execution_count": null,
      "outputs": [
        {
          "output_type": "stream",
          "text": [
            "\n",
            " [0.0, 1.8518518518518515e-08, 3.9896938704294115e-08, 8.595534877060707e-08, 1.8518518518518516e-07, 3.989693870429411e-07, 8.595534877060689e-07, 1.8518518518518517e-06, 3.989693870429411e-06, 8.59553487706069e-06, 1.8518518518518518e-05]\n"
          ],
          "name": "stdout"
        }
      ]
    },
    {
      "cell_type": "code",
      "metadata": {
        "colab": {
          "base_uri": "https://localhost:8080/"
        },
        "id": "GPrkIxaF_9-Q",
        "outputId": "3e747d54-4a6a-4a7e-9414-c0087445cca0"
      },
      "source": [
        "ch_test = Cheater(g_test,s_files,\n",
        "                    gmus=gmus,\n",
        "                    s2n = 15,\n",
        "                    nx=256,ny=256,n_buffer=10,\n",
        "                    reload_rate=1e5,filt=filt,test=1 , noisy=1)"
      ],
      "execution_count": null,
      "outputs": [
        {
          "output_type": "stream",
          "text": [
            "Data provider is reloading...\n"
          ],
          "name": "stdout"
        }
      ]
    },
    {
      "cell_type": "code",
      "metadata": {
        "colab": {
          "base_uri": "https://localhost:8080/",
          "height": 618
        },
        "id": "neFu_BIdCPO-",
        "outputId": "b8f84518-1808-45da-99ae-f5ffb11a5b97"
      },
      "source": [
        "Y_t  = [] \n",
        "pr_t = []\n",
        "\n",
        "for _ in range(500):\n",
        "    \n",
        "    x, y = ch_test(1)\n",
        "    pred = []\n",
        "    for i in range(30):\n",
        "        \n",
        "        pred.append(conv.predict(x[:,i,:,:,:]))\n",
        "#     print(np.array(pred).shape)    \n",
        "    preds = np.prod(np.vstack(pred), axis=0)\n",
        "    preds = preds/(sum(preds))\n",
        "#     print(preds)    \n",
        "\n",
        "        \n",
        "    Y_t.append(np.argmax(y))\n",
        "    pr_t.append(np.argmax(preds))\n",
        "    \n",
        "conf_plotter(Y_t , pr_t , labels , normalize=1, cmap = plt.cm.Greens ,\n",
        "             mode='test', save=1 , name='S4i_cheating30.png')"
      ],
      "execution_count": null,
      "outputs": [
        {
          "output_type": "execute_result",
          "data": {
            "text/plain": [
              "<matplotlib.axes._subplots.AxesSubplot at 0x7fd1d7534470>"
            ]
          },
          "metadata": {
            "tags": []
          },
          "execution_count": 28
        },
        {
          "output_type": "display_data",
          "data": {
            "image/png": "[encoded data removed]",
            "text/plain": [
              "<Figure size 648x648 with 2 Axes>"
            ]
          },
          "metadata": {
            "tags": [],
            "needs_background": "light"
          }
        }
      ]
    },
    {
      "cell_type": "code",
      "metadata": {
        "colab": {
          "base_uri": "https://localhost:8080/"
        },
        "id": "ojfN5uRoB5t-",
        "outputId": "2e2d4363-0e56-48d9-dac7-487256a0617b"
      },
      "source": [
        "Xs = {\n",
        "'x0' : [],\n",
        "'x1' : [],\n",
        "'x2' : [],\n",
        "'x3' : [],\n",
        "'x4' : [],\n",
        "'x5' : [],\n",
        "'x6' : [],\n",
        "'x7' : [],\n",
        "'x8' : [],\n",
        "'x9' : [],\n",
        "'x10' : []\n",
        "}\n",
        "\n",
        "\n",
        "for i in range(1000):\n",
        "\n",
        "    x , y = ch_test(1)\n",
        "\n",
        "    pred = []\n",
        "    for i in range(30):\n",
        "        pred.append(conv.predict(x[:,i,:,:,:]))\n",
        "    preds = np.prod(np.vstack(pred), axis=0)\n",
        "    preds = preds/(sum(preds))\n",
        "\n",
        "    b = 'x{}'.format(np.argmax(y))\n",
        "    \n",
        "    (Xs[b]).append( float(np.dot(preds , gmus3)) ) \n",
        "# Xs\n",
        "print(len(Xs['x0']), len(Xs['x1']),len(Xs['x2']),len(Xs['x3']),len(Xs['x4']))\n",
        "\n",
        "from scipy.stats import ttest_ind\n",
        "\n",
        "dist_0 = Xs['x0']\n",
        "pv_d = [1]\n",
        "\n",
        "for i in range(1,n_class):\n",
        "    dist = Xs['x{}'.format(i)]\n",
        "    tt , pval = ttest_ind(dist , dist_0 )\n",
        "    pv_d.append(pval)\n",
        "    \n",
        "    if pval<= 0.05:\n",
        "        print('{:3.2e}'.format(gmus3[i]) , ':' , pval)\n",
        "print('pv_det:' , pv_d)\n",
        "\n",
        "\n",
        "# pv_m = []\n",
        "# for i in range(n_class):\n",
        "#     pv = []\n",
        "#     for j in range(n_class):\n",
        "#         if i == j :\n",
        "#             continue\n",
        "#         else:\n",
        "#             dist_i = Xs['x{}'.format(i)]\n",
        "#             dist_j = Xs['x{}'.format(j)]\n",
        "#             tt , pval = ttest_ind(dist_i , dist_j )\n",
        "#             pv.append(pval)\n",
        "#     pv_m.append(max(pv))     \n",
        "#     if max(pv) <= 0.05 :\n",
        "#         print(gmus2[i])\n",
        "# print(pv_m)\n",
        "#     #         c +=1\n",
        "#     # print(c)\n",
        "#     # if c == n_class-1:\n",
        "#     #     print('{:3.2e}'.format(gmus2[i]))\n",
        "    \n",
        "# from scipy.interpolate import interp1d\n",
        "\n",
        "# f = interp1d(pv_m[:7],gmus2[:7], kind='linear')\n",
        "# pv_mes = f(0.05)\n",
        "# print('pv_mes:' ,pv_mes)\n",
        "\n",
        "from scipy.interpolate import interp1d\n",
        "\n",
        "f = interp1d(pv_d[:6],gmus3[:6], kind='linear')\n",
        "pv_det = f(0.05)\n",
        "print('pv_det:' , pv_det)"
      ],
      "execution_count": null,
      "outputs": [
        {
          "output_type": "stream",
          "text": [
            "98 96 88 95 87\n",
            "1.85e-07 : 4.458422434491434e-29\n",
            "3.99e-07 : 1.4385314408591433e-301\n",
            "8.60e-07 : 0.0\n",
            "1.85e-06 : 0.0\n",
            "3.99e-06 : 0.0\n",
            "8.60e-06 : 0.0\n",
            "1.85e-05 : 0.0\n",
            "pv_det: [1, 0.9711346937104257, 0.42868026361518086, 0.7840572187887153, 4.458422434491434e-29, 1.4385314408591433e-301, 0.0, 0.0, 0.0, 0.0, 0.0]\n",
            "pv_det: 1.682391931705733e-07\n"
          ],
          "name": "stdout"
        }
      ]
    },
    {
      "cell_type": "code",
      "metadata": {
        "colab": {
          "base_uri": "https://localhost:8080/",
          "height": 282
        },
        "id": "61y3F6WuIeq4",
        "outputId": "2b3dc664-d985-42db-a602-222ea0d051ca"
      },
      "source": [
        "plt.plot(pv_d)"
      ],
      "execution_count": null,
      "outputs": [
        {
          "output_type": "execute_result",
          "data": {
            "text/plain": [
              "[<matplotlib.lines.Line2D at 0x7fd164a417f0>]"
            ]
          },
          "metadata": {
            "tags": []
          },
          "execution_count": 30
        },
        {
          "output_type": "display_data",
          "data": {
            "image/png": "[encoded data removed]",
            "text/plain": [
              "<Figure size 432x288 with 1 Axes>"
            ]
          },
          "metadata": {
            "tags": [],
            "needs_background": "light"
          }
        }
      ]
    },
    {
      "cell_type": "markdown",
      "metadata": {
        "id": "On1IgOajB8sa"
      },
      "source": [
        "End of cheating"
      ]
    },
    {
      "cell_type": "code",
      "metadata": {
        "id": "FFDcyF1_V48H",
        "colab": {
          "base_uri": "https://localhost:8080/",
          "height": 469
        },
        "outputId": "a60f3865-7ffe-4782-8c52-a510f34d4a1d"
      },
      "source": [
        "def plot_confusion_matrix(cm, classes,\n",
        "                          normalize=False,\n",
        "                          #title='Confusion matrix',\n",
        "                          cmap=plt.cm.Purples):\n",
        "    if normalize:\n",
        "        cm = cm.astype('float') / cm.sum(axis=1)[:, np.newaxis]\n",
        "        print(\"Normalized confusion matrix\")\n",
        "    else:\n",
        "        print('Confusion matrix, without normalization')\n",
        "\n",
        "    im = plt.imshow(cm, interpolation='nearest', cmap=cmap)\n",
        "    plt.gca().invert_yaxis()\n",
        "\n",
        "    #plt.title(title,fontsize = 15)\n",
        "    plt.colorbar(im, fraction=0.046, pad=0.04)\n",
        "    tick_marks = np.arange(len(classes))\n",
        "    plt.xticks(tick_marks, classes, rotation=45 , fontsize=9)\n",
        "    plt.yticks(tick_marks, classes , fontsize=9)\n",
        "\n",
        "    fmt = '.2f' if normalize else 'd'\n",
        "    thresh = cm.max() / 2.\n",
        "    for i in range((cm.shape[0])):\n",
        "        for j in range(cm.shape[1]):\n",
        "            plt.text(j, i, format(cm[i, j], fmt),\n",
        "                     horizontalalignment=\"center\",\n",
        "                     color=\"white\" if cm[i, j] > thresh else \"black\")\n",
        "\n",
        "    plt.ylabel('True label',fontsize = 13)\n",
        "    plt.xlabel('Predicted label',fontsize = 13)\n",
        "    plt.tight_layout()\n",
        "\n",
        "labels = []\n",
        "for gmu in gmus2:\n",
        "    labels.append('{:3.1e}'.format(gmu))\n",
        "labels\n",
        "\n",
        "from sklearn.metrics import confusion_matrix\n",
        "\n",
        "\n",
        "Y_t  = [] \n",
        "pr_t = []\n",
        "\n",
        "for _ in range(1500):\n",
        "    \n",
        "    x, y = odp_test(1)\n",
        "    pred = conv.predict(x)\n",
        "    Y_t.append(np.argmax(y))\n",
        "    pr_t.append(np.argmax(pred))\n",
        "\n",
        "cnf_matrix = confusion_matrix(Y_t,pr_t)\n",
        "np.set_printoptions(precision=2)\n",
        "\n",
        "plt.figure(figsize=(7,7))\n",
        "foo = plot_confusion_matrix(cnf_matrix, labels,normalize=True\n",
        "                      ,cmap = plt.cm.pink_r)\n",
        "plt.savefig('./cm_s4i.png')"
      ],
      "execution_count": null,
      "outputs": [
        {
          "output_type": "stream",
          "text": [
            "Normalized confusion matrix\n"
          ],
          "name": "stdout"
        },
        {
          "output_type": "display_data",
          "data": {
            "image/png": "[encoded data removed]",
            "text/plain": [
              "<Figure size 504x504 with 2 Axes>"
            ]
          },
          "metadata": {
            "tags": [],
            "needs_background": "light"
          }
        }
      ]
    },
    {
      "cell_type": "code",
      "metadata": {
        "id": "AqZOJaB4WBKt",
        "colab": {
          "base_uri": "https://localhost:8080/",
          "height": 34
        },
        "outputId": "da9392b2-97a3-494a-dea2-88bcae11564e"
      },
      "source": [
        "from sklearn.metrics import confusion_matrix\n",
        "cm = confusion_matrix(Y_t, pr_t , normalize='true')\n",
        "\n",
        "from scipy.interpolate import interp1d\n",
        "\n",
        "fcm = interp1d(np.diag(cm)[:7],gmus2[:7], kind='linear')\n",
        "cm_mes = fcm(0.95)\n",
        "cm_mes"
      ],
      "execution_count": null,
      "outputs": [
        {
          "output_type": "execute_result",
          "data": {
            "text/plain": [
              "array(1.87e-07)"
            ]
          },
          "metadata": {
            "tags": []
          },
          "execution_count": 37
        }
      ]
    },
    {
      "cell_type": "code",
      "metadata": {
        "id": "6vBKCCBCWE5w",
        "colab": {
          "base_uri": "https://localhost:8080/",
          "height": 297
        },
        "outputId": "bc2eb1c6-6f00-43c3-d7f0-b47926452732"
      },
      "source": [
        "plt.axes(xscale='log')\n",
        "plt.xlabel('$G\\mu$' ,   fontsize=15)\n",
        "plt.ylabel('Confusion Matrix Diag' , fontsize=15)\n",
        "plt.plot(gmus2 , np.diag(cm) , color='brown' , marker='o' , linestyle='--' )\n",
        "# plt.plot(gmus2 , pv_m ,  color = 'darksalmon',linestyle='--')\n",
        "plt.axhline(0.95 , color='indianred')\n",
        "plt.text(0.000000008 , 0.97, 'accuracy = 0.95' , color='indianred' , fontsize=11 )\n",
        "plt.plot(cm_mes , 0.95 , 'o' , markersize=7 , color='midnightblue')\n",
        "plt.text(0.00000062 , 0.4 ,' $G\\mu$ = {:.1E}'.format(cm_mes) , color='midnightblue'  , fontsize=14)\n",
        "plt.text(0.0000005 , 0.5 ,' <Min-Measurable>'.format(cm_mes) , color='midnightblue'  , fontsize=13)\n",
        "\n",
        "# plt.title('Noisy E2E: P-value $min_{mes}$')\n",
        "plt.tight_layout()\n",
        "plt.ylim(0,1.1)\n",
        "plt.savefig('cm_m_s4i.png')\n",
        "# plt.savefig('TmoreMax_pv_mes.pdf')"
      ],
      "execution_count": null,
      "outputs": [
        {
          "output_type": "display_data",
          "data": {
            "image/png": "[encoded data removed]",
            "text/plain": [
              "<Figure size 432x288 with 1 Axes>"
            ]
          },
          "metadata": {
            "tags": [],
            "needs_background": "light"
          }
        }
      ]
    },
    {
      "cell_type": "code",
      "metadata": {
        "id": "fHIsc48jWE23",
        "colab": {
          "base_uri": "https://localhost:8080/",
          "height": 322
        },
        "outputId": "39a53132-9e87-4b30-ee61-01373bcf4a42"
      },
      "source": [
        "Xs = {\n",
        "'x0' : [],\n",
        "'x1' : [],\n",
        "'x2' : [],\n",
        "'x3' : [],\n",
        "'x4' : [],\n",
        "'x5' : [],\n",
        "'x6' : [],\n",
        "'x7' : [],\n",
        "'x8' : [],\n",
        "'x9' : [],\n",
        "'x10' : []\n",
        "}\n",
        "\n",
        "\n",
        "for i in range(4000):\n",
        "    x , y = odp_test(1)\n",
        "    pred = conv.predict(x)\n",
        "    b = 'x{}'.format(np.argmax(y))\n",
        "    \n",
        "    (Xs[b]).append( float(np.dot(pred , gmus2)) ) \n",
        "# Xs\n",
        "print(len(Xs['x0']), len(Xs['x1']),len(Xs['x2']),len(Xs['x3']),len(Xs['x4']))\n",
        "\n",
        "from scipy.stats import ttest_ind\n",
        "\n",
        "dist_0 = Xs['x0']\n",
        "pv_d = [1]\n",
        "\n",
        "for i in range(1,n_class):\n",
        "    dist = Xs['x{}'.format(i)]\n",
        "    tt , pval = ttest_ind(dist , dist_0 )\n",
        "    pv_d.append(pval)\n",
        "    \n",
        "    if pval<= 0.05:\n",
        "        print('{:3.2e}'.format(gmus2[i]) , ':' , pval)\n",
        "print('pv_det:' , pv_d)\n",
        "\n",
        "\n",
        "pv_m = []\n",
        "for i in range(n_class):\n",
        "    pv = []\n",
        "    for j in range(n_class):\n",
        "        if i == j :\n",
        "            continue\n",
        "        else:\n",
        "            dist_i = Xs['x{}'.format(i)]\n",
        "            dist_j = Xs['x{}'.format(j)]\n",
        "            tt , pval = ttest_ind(dist_i , dist_j )\n",
        "            pv.append(pval)\n",
        "    pv_m.append(max(pv))     \n",
        "    if max(pv) <= 0.05 :\n",
        "        print(gmus2[i])\n",
        "print(pv_m)\n",
        "    #         c +=1\n",
        "    # print(c)\n",
        "    # if c == n_class-1:\n",
        "    #     print('{:3.2e}'.format(gmus2[i]))\n",
        "    \n",
        "from scipy.interpolate import interp1d\n",
        "\n",
        "f = interp1d(pv_m[:7],gmus2[:7], kind='linear')\n",
        "pv_mes = f(0.05)\n",
        "print('pv_mes:' ,pv_mes)\n",
        "\n",
        "f = interp1d(pv_d[:7],gmus2[:7], kind='linear')\n",
        "pv_det = f(0.05)\n",
        "print('pv_det:' , pv_det)"
      ],
      "execution_count": null,
      "outputs": [
        {
          "output_type": "stream",
          "text": [
            "387 359 378 330 366\n",
            "1.91e-07 : 1.357850830099369e-11\n",
            "4.12e-07 : 9.634057221213358e-84\n",
            "8.88e-07 : 8.805398549341623e-267\n",
            "1.91e-06 : 0.0\n",
            "4.12e-06 : 0.0\n",
            "8.88e-06 : 0.0\n",
            "pv_det: [1, 0.5894993268868014, 0.6750445551469824, 0.5428985558274411, 0.08374530112953815, 1.357850830099369e-11, 9.634057221213358e-84, 8.805398549341623e-267, 0.0, 0.0, 0.0]\n",
            "1.913198221197898e-07\n",
            "4.121860616656042e-07\n",
            "8.8802795e-07\n",
            "1.9131982211978978e-06\n",
            "4.121860616656042e-06\n",
            "8.880279500000001e-06\n",
            "[0.6750445551469824, 0.8966236306342641, 0.8966236306342641, 0.5428985558274411, 0.17945199655952704, 2.831754492692382e-07, 3.2297859758804086e-62, 5.671619902825231e-221, 4.8164176560192205e-293, 1.1625660182107878e-291, 1.1625660182107878e-291]\n",
            "pv_mes: 1.627560250457905e-07\n",
            "pv_det: 1.3011219272097915e-07\n"
          ],
          "name": "stdout"
        }
      ]
    },
    {
      "cell_type": "code",
      "metadata": {
        "id": "HBxHv04kWNHY",
        "colab": {
          "base_uri": "https://localhost:8080/",
          "height": 297
        },
        "outputId": "8bbbfb91-c820-4a95-e338-457b94cd43c2"
      },
      "source": [
        "plt.axes(xscale='log')\n",
        "plt.xlabel('$G\\mu$' ,   fontsize=15)\n",
        "plt.ylabel('P value' , fontsize=15)\n",
        "plt.plot(gmus2 , pv_m , color='darkslategray' , marker='o' , linestyle='--' )\n",
        "# plt.plot(gmus2 , pv_m ,  color = 'darksalmon',linestyle='--')\n",
        "plt.axhline(0.05 , color='royalblue')\n",
        "plt.text(0.000000008 , 0.065 , 'P value = 0.05' , color='royalblue' , fontsize=13 )\n",
        "plt.plot(pv_mes , 0.05 , 'o' , markersize=7 , color='r')\n",
        "plt.text(0.0000007 , 0.55 ,' $G\\mu$ = {:.1E}'.format(pv_mes) , color='r'  , fontsize=14)\n",
        "plt.text(0.0000005 , 0.65 ,' <Min-Measurable>'.format(pv_mes) , color='r'  , fontsize=13)\n",
        "\n",
        "# plt.title('Noisy E2E: P-value $min_{mes}$')\n",
        "plt.tight_layout()\n",
        "\n",
        "plt.savefig('pv_m_s4i.png')\n",
        "# plt.savefig('TmoreMax_pv_mes.pdf')\n"
      ],
      "execution_count": null,
      "outputs": [
        {
          "output_type": "display_data",
          "data": {
            "image/png": "[encoded data removed]",
            "text/plain": [
              "<Figure size 432x288 with 1 Axes>"
            ]
          },
          "metadata": {
            "tags": [],
            "needs_background": "light"
          }
        }
      ]
    },
    {
      "cell_type": "code",
      "metadata": {
        "id": "OCgH7WY_WNEF",
        "colab": {
          "base_uri": "https://localhost:8080/",
          "height": 314
        },
        "outputId": "5de08d0b-24f1-4d7c-e777-10d307f2d3c7"
      },
      "source": [
        "# pv = [ 1, 0.55 , 0.94 , 0.72 , 0.3 , 0.21 , 0.010410934502571674 , 2.132286227637258e-70 , 1.715663208428416e-272 , 0 ,0]\n",
        "f = interp1d(pv_d[:6],gmus2[:6], kind='linear')\n",
        "pv_det = f(0.05)\n",
        "print('pv_det:' , pv_det)\n",
        "\n",
        "gmus2[0]=1e-9\n",
        "plt.axes(xscale='log')\n",
        "plt.xlabel('$G\\mu$' ,   fontsize=15)\n",
        "plt.ylabel('P value' , fontsize=15)\n",
        "plt.plot(gmus2 , pv_d , color='darkslategray' , marker='o' , linestyle='--' )\n",
        "plt.axhline(0.05 , color='royalblue')\n",
        "plt.text(0.0000000008 , 0.07 , 'P value = 0.05' , color='royalblue' , fontsize=12)\n",
        "plt.plot(pv_det , 0.05 , 'o' , markersize=8 , color='r')\n",
        "plt.text(0.00000035 , 0.7 ,'$G\\mu$ = {:.1E}'.format(pv_det) , color='r'  , fontsize=14)\n",
        "plt.text(0.0000002 , 0.8 ,' <Min-Detectable>' , color='r'  , fontsize=13)\n",
        "\n",
        "# plt.title('Noisy E2E: P-value $min_{det}$')\n",
        "\n",
        "plt.tight_layout()\n",
        "plt.savefig('pv_d_s4i.png')\n",
        "plt.savefig('pv_d_s4i.pdf')"
      ],
      "execution_count": null,
      "outputs": [
        {
          "output_type": "stream",
          "text": [
            "pv_det: 1.3011219272097915e-07\n"
          ],
          "name": "stdout"
        },
        {
          "output_type": "display_data",
          "data": {
            "image/png": "[encoded data removed]",
            "text/plain": [
              "<Figure size 432x288 with 1 Axes>"
            ]
          },
          "metadata": {
            "tags": [],
            "needs_background": "light"
          }
        }
      ]
    },
    {
      "cell_type": "code",
      "metadata": {
        "id": "Td0HZ8EqWE0G"
      },
      "source": [
        ""
      ],
      "execution_count": null,
      "outputs": []
    }
  ]
}